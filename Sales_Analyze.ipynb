{
 "cells": [
  {
   "cell_type": "code",
   "execution_count": 1,
   "id": "fd975f6e-15db-4530-a408-ceb790509bb5",
   "metadata": {},
   "outputs": [
    {
     "data": {
      "text/html": [
       "<div>\n",
       "<style scoped>\n",
       "    .dataframe tbody tr th:only-of-type {\n",
       "        vertical-align: middle;\n",
       "    }\n",
       "\n",
       "    .dataframe tbody tr th {\n",
       "        vertical-align: top;\n",
       "    }\n",
       "\n",
       "    .dataframe thead th {\n",
       "        text-align: right;\n",
       "    }\n",
       "</style>\n",
       "<table border=\"1\" class=\"dataframe\">\n",
       "  <thead>\n",
       "    <tr style=\"text-align: right;\">\n",
       "      <th></th>\n",
       "      <th>Segment</th>\n",
       "      <th>Country</th>\n",
       "      <th>Product</th>\n",
       "      <th>Discount Band</th>\n",
       "      <th>Units Sold</th>\n",
       "      <th>Manufacturing Price</th>\n",
       "      <th>Sale Price</th>\n",
       "      <th>Gross Sales</th>\n",
       "      <th>Discounts</th>\n",
       "      <th>Sales</th>\n",
       "      <th>COGS</th>\n",
       "      <th>Profit</th>\n",
       "      <th>Date</th>\n",
       "      <th>Month Number</th>\n",
       "      <th>Month Name</th>\n",
       "      <th>Year</th>\n",
       "    </tr>\n",
       "  </thead>\n",
       "  <tbody>\n",
       "    <tr>\n",
       "      <th>0</th>\n",
       "      <td>Government</td>\n",
       "      <td>Canada</td>\n",
       "      <td>Carretera</td>\n",
       "      <td>None</td>\n",
       "      <td>$1,618.50</td>\n",
       "      <td>$3.00</td>\n",
       "      <td>$20.00</td>\n",
       "      <td>$32,370.00</td>\n",
       "      <td>$-</td>\n",
       "      <td>$32,370.00</td>\n",
       "      <td>$16,185.00</td>\n",
       "      <td>$16,185.00</td>\n",
       "      <td>1/1/2014</td>\n",
       "      <td>1</td>\n",
       "      <td>January</td>\n",
       "      <td>2014</td>\n",
       "    </tr>\n",
       "    <tr>\n",
       "      <th>1</th>\n",
       "      <td>Government</td>\n",
       "      <td>Germany</td>\n",
       "      <td>Carretera</td>\n",
       "      <td>None</td>\n",
       "      <td>$1,321.00</td>\n",
       "      <td>$3.00</td>\n",
       "      <td>$20.00</td>\n",
       "      <td>$26,420.00</td>\n",
       "      <td>$-</td>\n",
       "      <td>$26,420.00</td>\n",
       "      <td>$13,210.00</td>\n",
       "      <td>$13,210.00</td>\n",
       "      <td>1/1/2014</td>\n",
       "      <td>1</td>\n",
       "      <td>January</td>\n",
       "      <td>2014</td>\n",
       "    </tr>\n",
       "    <tr>\n",
       "      <th>2</th>\n",
       "      <td>Midmarket</td>\n",
       "      <td>France</td>\n",
       "      <td>Carretera</td>\n",
       "      <td>None</td>\n",
       "      <td>$2,178.00</td>\n",
       "      <td>$3.00</td>\n",
       "      <td>$15.00</td>\n",
       "      <td>$32,670.00</td>\n",
       "      <td>$-</td>\n",
       "      <td>$32,670.00</td>\n",
       "      <td>$21,780.00</td>\n",
       "      <td>$10,890.00</td>\n",
       "      <td>1/6/2014</td>\n",
       "      <td>6</td>\n",
       "      <td>June</td>\n",
       "      <td>2014</td>\n",
       "    </tr>\n",
       "    <tr>\n",
       "      <th>3</th>\n",
       "      <td>Midmarket</td>\n",
       "      <td>Germany</td>\n",
       "      <td>Carretera</td>\n",
       "      <td>None</td>\n",
       "      <td>$888.00</td>\n",
       "      <td>$3.00</td>\n",
       "      <td>$15.00</td>\n",
       "      <td>$13,320.00</td>\n",
       "      <td>$-</td>\n",
       "      <td>$13,320.00</td>\n",
       "      <td>$8,880.00</td>\n",
       "      <td>$4,440.00</td>\n",
       "      <td>1/6/2014</td>\n",
       "      <td>6</td>\n",
       "      <td>June</td>\n",
       "      <td>2014</td>\n",
       "    </tr>\n",
       "    <tr>\n",
       "      <th>4</th>\n",
       "      <td>Midmarket</td>\n",
       "      <td>Mexico</td>\n",
       "      <td>Carretera</td>\n",
       "      <td>None</td>\n",
       "      <td>$2,470.00</td>\n",
       "      <td>$3.00</td>\n",
       "      <td>$15.00</td>\n",
       "      <td>$37,050.00</td>\n",
       "      <td>$-</td>\n",
       "      <td>$37,050.00</td>\n",
       "      <td>$24,700.00</td>\n",
       "      <td>$12,350.00</td>\n",
       "      <td>1/6/2014</td>\n",
       "      <td>6</td>\n",
       "      <td>June</td>\n",
       "      <td>2014</td>\n",
       "    </tr>\n",
       "    <tr>\n",
       "      <th>...</th>\n",
       "      <td>...</td>\n",
       "      <td>...</td>\n",
       "      <td>...</td>\n",
       "      <td>...</td>\n",
       "      <td>...</td>\n",
       "      <td>...</td>\n",
       "      <td>...</td>\n",
       "      <td>...</td>\n",
       "      <td>...</td>\n",
       "      <td>...</td>\n",
       "      <td>...</td>\n",
       "      <td>...</td>\n",
       "      <td>...</td>\n",
       "      <td>...</td>\n",
       "      <td>...</td>\n",
       "      <td>...</td>\n",
       "    </tr>\n",
       "    <tr>\n",
       "      <th>695</th>\n",
       "      <td>Small Business</td>\n",
       "      <td>France</td>\n",
       "      <td>Amarilla</td>\n",
       "      <td>High</td>\n",
       "      <td>$2,475.00</td>\n",
       "      <td>$260.00</td>\n",
       "      <td>$300.00</td>\n",
       "      <td>$7,42,500.00</td>\n",
       "      <td>$1,11,375.00</td>\n",
       "      <td>$6,31,125.00</td>\n",
       "      <td>$6,18,750.00</td>\n",
       "      <td>$12,375.00</td>\n",
       "      <td>1/3/2014</td>\n",
       "      <td>3</td>\n",
       "      <td>March</td>\n",
       "      <td>2014</td>\n",
       "    </tr>\n",
       "    <tr>\n",
       "      <th>696</th>\n",
       "      <td>Small Business</td>\n",
       "      <td>Mexico</td>\n",
       "      <td>Amarilla</td>\n",
       "      <td>High</td>\n",
       "      <td>$546.00</td>\n",
       "      <td>$260.00</td>\n",
       "      <td>$300.00</td>\n",
       "      <td>$1,63,800.00</td>\n",
       "      <td>$24,570.00</td>\n",
       "      <td>$1,39,230.00</td>\n",
       "      <td>$1,36,500.00</td>\n",
       "      <td>$2,730.00</td>\n",
       "      <td>1/10/2014</td>\n",
       "      <td>10</td>\n",
       "      <td>October</td>\n",
       "      <td>2014</td>\n",
       "    </tr>\n",
       "    <tr>\n",
       "      <th>697</th>\n",
       "      <td>Government</td>\n",
       "      <td>Mexico</td>\n",
       "      <td>Montana</td>\n",
       "      <td>High</td>\n",
       "      <td>$1,368.00</td>\n",
       "      <td>$5.00</td>\n",
       "      <td>$7.00</td>\n",
       "      <td>$9,576.00</td>\n",
       "      <td>$1,436.40</td>\n",
       "      <td>$8,139.60</td>\n",
       "      <td>$6,840.00</td>\n",
       "      <td>$1,299.60</td>\n",
       "      <td>1/2/2014</td>\n",
       "      <td>2</td>\n",
       "      <td>February</td>\n",
       "      <td>2014</td>\n",
       "    </tr>\n",
       "    <tr>\n",
       "      <th>698</th>\n",
       "      <td>Government</td>\n",
       "      <td>Canada</td>\n",
       "      <td>Paseo</td>\n",
       "      <td>High</td>\n",
       "      <td>$723.00</td>\n",
       "      <td>$10.00</td>\n",
       "      <td>$7.00</td>\n",
       "      <td>$5,061.00</td>\n",
       "      <td>$759.15</td>\n",
       "      <td>$4,301.85</td>\n",
       "      <td>$3,615.00</td>\n",
       "      <td>$686.85</td>\n",
       "      <td>1/4/2014</td>\n",
       "      <td>4</td>\n",
       "      <td>April</td>\n",
       "      <td>2014</td>\n",
       "    </tr>\n",
       "    <tr>\n",
       "      <th>699</th>\n",
       "      <td>Channel Partners</td>\n",
       "      <td>United States of America</td>\n",
       "      <td>VTT</td>\n",
       "      <td>High</td>\n",
       "      <td>$1,806.00</td>\n",
       "      <td>$250.00</td>\n",
       "      <td>$12.00</td>\n",
       "      <td>$21,672.00</td>\n",
       "      <td>$3,250.80</td>\n",
       "      <td>$18,421.20</td>\n",
       "      <td>$5,418.00</td>\n",
       "      <td>$13,003.20</td>\n",
       "      <td>1/5/2014</td>\n",
       "      <td>5</td>\n",
       "      <td>May</td>\n",
       "      <td>2014</td>\n",
       "    </tr>\n",
       "  </tbody>\n",
       "</table>\n",
       "<p>700 rows × 16 columns</p>\n",
       "</div>"
      ],
      "text/plain": [
       "              Segment                   Country     Product   Discount Band   \\\n",
       "0          Government                    Canada   Carretera            None    \n",
       "1          Government                   Germany   Carretera            None    \n",
       "2           Midmarket                    France   Carretera            None    \n",
       "3           Midmarket                   Germany   Carretera            None    \n",
       "4           Midmarket                    Mexico   Carretera            None    \n",
       "..                ...                       ...          ...             ...   \n",
       "695    Small Business                    France    Amarilla            High    \n",
       "696    Small Business                    Mexico    Amarilla            High    \n",
       "697        Government                    Mexico     Montana            High    \n",
       "698        Government                    Canada       Paseo            High    \n",
       "699  Channel Partners  United States of America         VTT            High    \n",
       "\n",
       "     Units Sold   Manufacturing Price   Sale Price     Gross Sales   \\\n",
       "0     $1,618.50                 $3.00       $20.00      $32,370.00    \n",
       "1     $1,321.00                 $3.00       $20.00      $26,420.00    \n",
       "2     $2,178.00                 $3.00       $15.00      $32,670.00    \n",
       "3       $888.00                 $3.00       $15.00      $13,320.00    \n",
       "4     $2,470.00                 $3.00       $15.00      $37,050.00    \n",
       "..           ...                   ...          ...             ...   \n",
       "695   $2,475.00               $260.00      $300.00    $7,42,500.00    \n",
       "696     $546.00               $260.00      $300.00    $1,63,800.00    \n",
       "697   $1,368.00                 $5.00        $7.00       $9,576.00    \n",
       "698     $723.00                $10.00        $7.00       $5,061.00    \n",
       "699   $1,806.00               $250.00       $12.00      $21,672.00    \n",
       "\n",
       "         Discounts           Sales            COGS       Profit        Date  \\\n",
       "0             $-        $32,370.00      $16,185.00   $16,185.00    1/1/2014   \n",
       "1             $-        $26,420.00      $13,210.00   $13,210.00    1/1/2014   \n",
       "2             $-        $32,670.00      $21,780.00   $10,890.00    1/6/2014   \n",
       "3             $-        $13,320.00       $8,880.00    $4,440.00    1/6/2014   \n",
       "4             $-        $37,050.00      $24,700.00   $12,350.00    1/6/2014   \n",
       "..              ...             ...             ...          ...        ...   \n",
       "695   $1,11,375.00    $6,31,125.00    $6,18,750.00   $12,375.00    1/3/2014   \n",
       "696     $24,570.00    $1,39,230.00    $1,36,500.00    $2,730.00   1/10/2014   \n",
       "697      $1,436.40       $8,139.60       $6,840.00    $1,299.60    1/2/2014   \n",
       "698        $759.15       $4,301.85       $3,615.00      $686.85    1/4/2014   \n",
       "699      $3,250.80      $18,421.20       $5,418.00   $13,003.20    1/5/2014   \n",
       "\n",
       "     Month Number  Month Name   Year  \n",
       "0               1     January   2014  \n",
       "1               1     January   2014  \n",
       "2               6        June   2014  \n",
       "3               6        June   2014  \n",
       "4               6        June   2014  \n",
       "..            ...          ...   ...  \n",
       "695             3       March   2014  \n",
       "696            10     October   2014  \n",
       "697             2    February   2014  \n",
       "698             4       April   2014  \n",
       "699             5         May   2014  \n",
       "\n",
       "[700 rows x 16 columns]"
      ]
     },
     "execution_count": 1,
     "metadata": {},
     "output_type": "execute_result"
    }
   ],
   "source": [
    "import pandas as pd\n",
    "import plotly.express as px\n",
    "import sqlite3\n",
    "\n",
    "df = pd.read_csv('Financials.csv')\n",
    "df.drop_duplicates(inplace=True)\n",
    "df"
   ]
  },
  {
   "cell_type": "code",
   "execution_count": 2,
   "id": "6a08b2bd-0d40-4f96-8c56-a99cc9f9dfb5",
   "metadata": {},
   "outputs": [
    {
     "data": {
      "text/plain": [
       "<bound method DataFrame.info of               Segment                   Country     Product   Discount Band   \\\n",
       "0          Government                    Canada   Carretera            None    \n",
       "1          Government                   Germany   Carretera            None    \n",
       "2           Midmarket                    France   Carretera            None    \n",
       "3           Midmarket                   Germany   Carretera            None    \n",
       "4           Midmarket                    Mexico   Carretera            None    \n",
       "..                ...                       ...          ...             ...   \n",
       "695    Small Business                    France    Amarilla            High    \n",
       "696    Small Business                    Mexico    Amarilla            High    \n",
       "697        Government                    Mexico     Montana            High    \n",
       "698        Government                    Canada       Paseo            High    \n",
       "699  Channel Partners  United States of America         VTT            High    \n",
       "\n",
       "     Units Sold   Manufacturing Price   Sale Price     Gross Sales   \\\n",
       "0     $1,618.50                 $3.00       $20.00      $32,370.00    \n",
       "1     $1,321.00                 $3.00       $20.00      $26,420.00    \n",
       "2     $2,178.00                 $3.00       $15.00      $32,670.00    \n",
       "3       $888.00                 $3.00       $15.00      $13,320.00    \n",
       "4     $2,470.00                 $3.00       $15.00      $37,050.00    \n",
       "..           ...                   ...          ...             ...   \n",
       "695   $2,475.00               $260.00      $300.00    $7,42,500.00    \n",
       "696     $546.00               $260.00      $300.00    $1,63,800.00    \n",
       "697   $1,368.00                 $5.00        $7.00       $9,576.00    \n",
       "698     $723.00                $10.00        $7.00       $5,061.00    \n",
       "699   $1,806.00               $250.00       $12.00      $21,672.00    \n",
       "\n",
       "         Discounts           Sales            COGS       Profit        Date  \\\n",
       "0             $-        $32,370.00      $16,185.00   $16,185.00    1/1/2014   \n",
       "1             $-        $26,420.00      $13,210.00   $13,210.00    1/1/2014   \n",
       "2             $-        $32,670.00      $21,780.00   $10,890.00    1/6/2014   \n",
       "3             $-        $13,320.00       $8,880.00    $4,440.00    1/6/2014   \n",
       "4             $-        $37,050.00      $24,700.00   $12,350.00    1/6/2014   \n",
       "..              ...             ...             ...          ...        ...   \n",
       "695   $1,11,375.00    $6,31,125.00    $6,18,750.00   $12,375.00    1/3/2014   \n",
       "696     $24,570.00    $1,39,230.00    $1,36,500.00    $2,730.00   1/10/2014   \n",
       "697      $1,436.40       $8,139.60       $6,840.00    $1,299.60    1/2/2014   \n",
       "698        $759.15       $4,301.85       $3,615.00      $686.85    1/4/2014   \n",
       "699      $3,250.80      $18,421.20       $5,418.00   $13,003.20    1/5/2014   \n",
       "\n",
       "     Month Number  Month Name   Year  \n",
       "0               1     January   2014  \n",
       "1               1     January   2014  \n",
       "2               6        June   2014  \n",
       "3               6        June   2014  \n",
       "4               6        June   2014  \n",
       "..            ...          ...   ...  \n",
       "695             3       March   2014  \n",
       "696            10     October   2014  \n",
       "697             2    February   2014  \n",
       "698             4       April   2014  \n",
       "699             5         May   2014  \n",
       "\n",
       "[700 rows x 16 columns]>"
      ]
     },
     "execution_count": 2,
     "metadata": {},
     "output_type": "execute_result"
    }
   ],
   "source": [
    "df.info"
   ]
  },
  {
   "cell_type": "code",
   "execution_count": 3,
   "id": "a9d76da8-ecf0-4d9e-9815-8f2e6d68fd79",
   "metadata": {},
   "outputs": [
    {
     "name": "stdout",
     "output_type": "stream",
     "text": [
      "['Segment', 'Country', ' Product ', ' Discount Band ', ' Units Sold ', ' Manufacturing Price ', ' Sale Price ', ' Gross Sales ', ' Discounts ', '  Sales ', ' COGS ', ' Profit ', 'Date', 'Month Number', ' Month Name ', 'Year']\n"
     ]
    }
   ],
   "source": [
    "print(df.columns.tolist())"
   ]
  },
  {
   "cell_type": "code",
   "execution_count": 4,
   "id": "230149d3-dbbe-4c46-8bfb-18e85645bc50",
   "metadata": {},
   "outputs": [
    {
     "name": "stdout",
     "output_type": "stream",
     "text": [
      "['Segment', 'Country', 'Product', 'Discount Band', 'Units Sold', 'Manufacturing Price', 'Sale Price', 'Gross Sales', 'Discounts', 'Sales', 'COGS', 'Profit', 'Date', 'Month Number', 'Month Name', 'Year']\n"
     ]
    }
   ],
   "source": [
    "# Remove spaces\n",
    "df.columns = df.columns.str.strip()\n",
    "print(df.columns.tolist())"
   ]
  },
  {
   "cell_type": "code",
   "execution_count": 5,
   "id": "a2121442-2314-4d96-be1f-d79a8380054a",
   "metadata": {},
   "outputs": [
    {
     "data": {
      "text/plain": [
       "count        700\n",
       "unique         4\n",
       "top        High \n",
       "freq         245\n",
       "Name: Discount Band, dtype: object"
      ]
     },
     "execution_count": 5,
     "metadata": {},
     "output_type": "execute_result"
    }
   ],
   "source": [
    "df['Discount Band'].describe()"
   ]
  },
  {
   "cell_type": "code",
   "execution_count": 6,
   "id": "0c4528b5-8475-40b9-8ac3-1bf71e39041a",
   "metadata": {},
   "outputs": [
    {
     "name": "stdout",
     "output_type": "stream",
     "text": [
      "[' None ' ' Low ' ' Medium ' ' High ']\n"
     ]
    }
   ],
   "source": [
    "print(df['Discount Band'].unique())\n"
   ]
  },
  {
   "cell_type": "code",
   "execution_count": 7,
   "id": "0e7bd712-aa55-4189-8d28-f707fb343801",
   "metadata": {},
   "outputs": [
    {
     "name": "stdout",
     "output_type": "stream",
     "text": [
      "['None' 'Low' 'Medium' 'High']\n"
     ]
    }
   ],
   "source": [
    "df['Discount Band'] = df['Discount Band'].str.strip()\n",
    "print(df['Discount Band'].unique())"
   ]
  },
  {
   "cell_type": "code",
   "execution_count": 8,
   "id": "c72c68f8-2880-4399-b5c2-06c72af6a55f",
   "metadata": {},
   "outputs": [
    {
     "data": {
      "text/html": [
       "<div>\n",
       "<style scoped>\n",
       "    .dataframe tbody tr th:only-of-type {\n",
       "        vertical-align: middle;\n",
       "    }\n",
       "\n",
       "    .dataframe tbody tr th {\n",
       "        vertical-align: top;\n",
       "    }\n",
       "\n",
       "    .dataframe thead th {\n",
       "        text-align: right;\n",
       "    }\n",
       "</style>\n",
       "<table border=\"1\" class=\"dataframe\">\n",
       "  <thead>\n",
       "    <tr style=\"text-align: right;\">\n",
       "      <th></th>\n",
       "      <th>index</th>\n",
       "      <th>Segment</th>\n",
       "      <th>Country</th>\n",
       "      <th>Product</th>\n",
       "      <th>Discount Band</th>\n",
       "      <th>Units Sold</th>\n",
       "      <th>Manufacturing Price</th>\n",
       "      <th>Sale Price</th>\n",
       "      <th>Gross Sales</th>\n",
       "      <th>Discounts</th>\n",
       "      <th>Sales</th>\n",
       "      <th>COGS</th>\n",
       "      <th>Profit</th>\n",
       "      <th>Date</th>\n",
       "      <th>Month Number</th>\n",
       "      <th>Month Name</th>\n",
       "      <th>Year</th>\n",
       "    </tr>\n",
       "  </thead>\n",
       "  <tbody>\n",
       "    <tr>\n",
       "      <th>0</th>\n",
       "      <td>455</td>\n",
       "      <td>Channel Partners</td>\n",
       "      <td>United States of America</td>\n",
       "      <td>Carretera</td>\n",
       "      <td>High</td>\n",
       "      <td>$386.00</td>\n",
       "      <td>$3.00</td>\n",
       "      <td>$12.00</td>\n",
       "      <td>$4,632.00</td>\n",
       "      <td>$463.20</td>\n",
       "      <td>$4,168.80</td>\n",
       "      <td>$1,158.00</td>\n",
       "      <td>$3,010.80</td>\n",
       "      <td>1/10/2013</td>\n",
       "      <td>10</td>\n",
       "      <td>October</td>\n",
       "      <td>2013</td>\n",
       "    </tr>\n",
       "    <tr>\n",
       "      <th>1</th>\n",
       "      <td>456</td>\n",
       "      <td>Government</td>\n",
       "      <td>United States of America</td>\n",
       "      <td>Montana</td>\n",
       "      <td>High</td>\n",
       "      <td>$2,328.00</td>\n",
       "      <td>$5.00</td>\n",
       "      <td>$7.00</td>\n",
       "      <td>$16,296.00</td>\n",
       "      <td>$1,629.60</td>\n",
       "      <td>$14,666.40</td>\n",
       "      <td>$11,640.00</td>\n",
       "      <td>$3,026.40</td>\n",
       "      <td>1/9/2014</td>\n",
       "      <td>9</td>\n",
       "      <td>September</td>\n",
       "      <td>2014</td>\n",
       "    </tr>\n",
       "    <tr>\n",
       "      <th>2</th>\n",
       "      <td>457</td>\n",
       "      <td>Channel Partners</td>\n",
       "      <td>United States of America</td>\n",
       "      <td>Paseo</td>\n",
       "      <td>High</td>\n",
       "      <td>$386.00</td>\n",
       "      <td>$10.00</td>\n",
       "      <td>$12.00</td>\n",
       "      <td>$4,632.00</td>\n",
       "      <td>$463.20</td>\n",
       "      <td>$4,168.80</td>\n",
       "      <td>$1,158.00</td>\n",
       "      <td>$3,010.80</td>\n",
       "      <td>1/10/2013</td>\n",
       "      <td>10</td>\n",
       "      <td>October</td>\n",
       "      <td>2013</td>\n",
       "    </tr>\n",
       "    <tr>\n",
       "      <th>3</th>\n",
       "      <td>458</td>\n",
       "      <td>Enterprise</td>\n",
       "      <td>United States of America</td>\n",
       "      <td>Carretera</td>\n",
       "      <td>High</td>\n",
       "      <td>$3,445.50</td>\n",
       "      <td>$3.00</td>\n",
       "      <td>$125.00</td>\n",
       "      <td>$4,30,687.50</td>\n",
       "      <td>$43,068.75</td>\n",
       "      <td>$3,87,618.75</td>\n",
       "      <td>$4,13,460.00</td>\n",
       "      <td>($25,841.25)</td>\n",
       "      <td>1/4/2014</td>\n",
       "      <td>4</td>\n",
       "      <td>April</td>\n",
       "      <td>2014</td>\n",
       "    </tr>\n",
       "    <tr>\n",
       "      <th>4</th>\n",
       "      <td>459</td>\n",
       "      <td>Enterprise</td>\n",
       "      <td>France</td>\n",
       "      <td>Carretera</td>\n",
       "      <td>High</td>\n",
       "      <td>$1,482.00</td>\n",
       "      <td>$3.00</td>\n",
       "      <td>$125.00</td>\n",
       "      <td>$1,85,250.00</td>\n",
       "      <td>$18,525.00</td>\n",
       "      <td>$1,66,725.00</td>\n",
       "      <td>$1,77,840.00</td>\n",
       "      <td>($11,115.00)</td>\n",
       "      <td>1/12/2013</td>\n",
       "      <td>12</td>\n",
       "      <td>December</td>\n",
       "      <td>2013</td>\n",
       "    </tr>\n",
       "    <tr>\n",
       "      <th>...</th>\n",
       "      <td>...</td>\n",
       "      <td>...</td>\n",
       "      <td>...</td>\n",
       "      <td>...</td>\n",
       "      <td>...</td>\n",
       "      <td>...</td>\n",
       "      <td>...</td>\n",
       "      <td>...</td>\n",
       "      <td>...</td>\n",
       "      <td>...</td>\n",
       "      <td>...</td>\n",
       "      <td>...</td>\n",
       "      <td>...</td>\n",
       "      <td>...</td>\n",
       "      <td>...</td>\n",
       "      <td>...</td>\n",
       "      <td>...</td>\n",
       "    </tr>\n",
       "    <tr>\n",
       "      <th>695</th>\n",
       "      <td>48</td>\n",
       "      <td>Government</td>\n",
       "      <td>France</td>\n",
       "      <td>Amarilla</td>\n",
       "      <td>None</td>\n",
       "      <td>$1,899.00</td>\n",
       "      <td>$260.00</td>\n",
       "      <td>$20.00</td>\n",
       "      <td>$37,980.00</td>\n",
       "      <td>$-</td>\n",
       "      <td>$37,980.00</td>\n",
       "      <td>$18,990.00</td>\n",
       "      <td>$18,990.00</td>\n",
       "      <td>1/6/2014</td>\n",
       "      <td>6</td>\n",
       "      <td>June</td>\n",
       "      <td>2014</td>\n",
       "    </tr>\n",
       "    <tr>\n",
       "      <th>696</th>\n",
       "      <td>49</td>\n",
       "      <td>Government</td>\n",
       "      <td>Germany</td>\n",
       "      <td>Amarilla</td>\n",
       "      <td>None</td>\n",
       "      <td>$1,686.00</td>\n",
       "      <td>$260.00</td>\n",
       "      <td>$7.00</td>\n",
       "      <td>$11,802.00</td>\n",
       "      <td>$-</td>\n",
       "      <td>$11,802.00</td>\n",
       "      <td>$8,430.00</td>\n",
       "      <td>$3,372.00</td>\n",
       "      <td>1/7/2014</td>\n",
       "      <td>7</td>\n",
       "      <td>July</td>\n",
       "      <td>2014</td>\n",
       "    </tr>\n",
       "    <tr>\n",
       "      <th>697</th>\n",
       "      <td>50</td>\n",
       "      <td>Channel Partners</td>\n",
       "      <td>United States of America</td>\n",
       "      <td>Amarilla</td>\n",
       "      <td>None</td>\n",
       "      <td>$2,141.00</td>\n",
       "      <td>$260.00</td>\n",
       "      <td>$12.00</td>\n",
       "      <td>$25,692.00</td>\n",
       "      <td>$-</td>\n",
       "      <td>$25,692.00</td>\n",
       "      <td>$6,423.00</td>\n",
       "      <td>$19,269.00</td>\n",
       "      <td>1/8/2014</td>\n",
       "      <td>8</td>\n",
       "      <td>August</td>\n",
       "      <td>2014</td>\n",
       "    </tr>\n",
       "    <tr>\n",
       "      <th>698</th>\n",
       "      <td>51</td>\n",
       "      <td>Government</td>\n",
       "      <td>United States of America</td>\n",
       "      <td>Amarilla</td>\n",
       "      <td>None</td>\n",
       "      <td>$1,143.00</td>\n",
       "      <td>$260.00</td>\n",
       "      <td>$7.00</td>\n",
       "      <td>$8,001.00</td>\n",
       "      <td>$-</td>\n",
       "      <td>$8,001.00</td>\n",
       "      <td>$5,715.00</td>\n",
       "      <td>$2,286.00</td>\n",
       "      <td>1/10/2014</td>\n",
       "      <td>10</td>\n",
       "      <td>October</td>\n",
       "      <td>2014</td>\n",
       "    </tr>\n",
       "    <tr>\n",
       "      <th>699</th>\n",
       "      <td>52</td>\n",
       "      <td>Midmarket</td>\n",
       "      <td>United States of America</td>\n",
       "      <td>Amarilla</td>\n",
       "      <td>None</td>\n",
       "      <td>$615.00</td>\n",
       "      <td>$260.00</td>\n",
       "      <td>$15.00</td>\n",
       "      <td>$9,225.00</td>\n",
       "      <td>$-</td>\n",
       "      <td>$9,225.00</td>\n",
       "      <td>$6,150.00</td>\n",
       "      <td>$3,075.00</td>\n",
       "      <td>1/12/2014</td>\n",
       "      <td>12</td>\n",
       "      <td>December</td>\n",
       "      <td>2014</td>\n",
       "    </tr>\n",
       "  </tbody>\n",
       "</table>\n",
       "<p>700 rows × 17 columns</p>\n",
       "</div>"
      ],
      "text/plain": [
       "     index           Segment                   Country      Product  \\\n",
       "0      455  Channel Partners  United States of America   Carretera    \n",
       "1      456        Government  United States of America     Montana    \n",
       "2      457  Channel Partners  United States of America       Paseo    \n",
       "3      458        Enterprise  United States of America   Carretera    \n",
       "4      459        Enterprise                    France   Carretera    \n",
       "..     ...               ...                       ...          ...   \n",
       "695     48        Government                    France    Amarilla    \n",
       "696     49        Government                   Germany    Amarilla    \n",
       "697     50  Channel Partners  United States of America    Amarilla    \n",
       "698     51        Government  United States of America    Amarilla    \n",
       "699     52         Midmarket  United States of America    Amarilla    \n",
       "\n",
       "    Discount Band  Units Sold Manufacturing Price Sale Price     Gross Sales  \\\n",
       "0            High    $386.00               $3.00     $12.00       $4,632.00    \n",
       "1            High  $2,328.00               $5.00      $7.00      $16,296.00    \n",
       "2            High    $386.00              $10.00     $12.00       $4,632.00    \n",
       "3            High  $3,445.50               $3.00    $125.00    $4,30,687.50    \n",
       "4            High  $1,482.00               $3.00    $125.00    $1,85,250.00    \n",
       "..            ...         ...                 ...        ...             ...   \n",
       "695          None  $1,899.00             $260.00     $20.00      $37,980.00    \n",
       "696          None  $1,686.00             $260.00      $7.00      $11,802.00    \n",
       "697          None  $2,141.00             $260.00     $12.00      $25,692.00    \n",
       "698          None  $1,143.00             $260.00      $7.00       $8,001.00    \n",
       "699          None    $615.00             $260.00     $15.00       $9,225.00    \n",
       "\n",
       "       Discounts           Sales            COGS        Profit       Date  \\\n",
       "0       $463.20       $4,168.80       $1,158.00     $3,010.80   1/10/2013   \n",
       "1     $1,629.60      $14,666.40      $11,640.00     $3,026.40    1/9/2014   \n",
       "2       $463.20       $4,168.80       $1,158.00     $3,010.80   1/10/2013   \n",
       "3    $43,068.75    $3,87,618.75    $4,13,460.00   ($25,841.25)   1/4/2014   \n",
       "4    $18,525.00    $1,66,725.00    $1,77,840.00   ($11,115.00)  1/12/2013   \n",
       "..           ...             ...             ...           ...        ...   \n",
       "695        $-        $37,980.00      $18,990.00    $18,990.00    1/6/2014   \n",
       "696        $-        $11,802.00       $8,430.00     $3,372.00    1/7/2014   \n",
       "697        $-        $25,692.00       $6,423.00    $19,269.00    1/8/2014   \n",
       "698        $-         $8,001.00       $5,715.00     $2,286.00   1/10/2014   \n",
       "699        $-         $9,225.00       $6,150.00     $3,075.00   1/12/2014   \n",
       "\n",
       "     Month Number   Month Name  Year  \n",
       "0              10     October   2013  \n",
       "1               9   September   2014  \n",
       "2              10     October   2013  \n",
       "3               4       April   2014  \n",
       "4              12    December   2013  \n",
       "..            ...          ...   ...  \n",
       "695             6        June   2014  \n",
       "696             7        July   2014  \n",
       "697             8      August   2014  \n",
       "698            10     October   2014  \n",
       "699            12    December   2014  \n",
       "\n",
       "[700 rows x 17 columns]"
      ]
     },
     "execution_count": 8,
     "metadata": {},
     "output_type": "execute_result"
    }
   ],
   "source": [
    "# Displaying in descending order by Discount Band\n",
    "conn = sqlite3.connect(':memory:')\n",
    "df.to_sql('Financials', conn)\n",
    "\n",
    "query = \"\"\"\n",
    "SELECT *\n",
    "FROM Financials\n",
    "ORDER BY \n",
    "  CASE \"Discount Band\"\n",
    "    WHEN 'High' THEN 1\n",
    "    WHEN 'Medium' THEN 2\n",
    "    WHEN 'Low' THEN 3\n",
    "    WHEN 'None' THEN 4\n",
    "    ELSE 0\n",
    "  END\n",
    "\"\"\"\n",
    "df_new = pd.read_sql_query(query, conn)\n",
    "df_new"
   ]
  },
  {
   "cell_type": "code",
   "execution_count": 9,
   "id": "526b1d5c-ded9-4da6-8880-03b8c35cae38",
   "metadata": {},
   "outputs": [
    {
     "name": "stdout",
     "output_type": "stream",
     "text": [
      "Profit                 object\n",
      "Sales                  object\n",
      "Units Sold             object\n",
      "Manufacturing Price    object\n",
      "Sale Price             object\n",
      "Gross Sales            object\n",
      "Discounts              object\n",
      "COGS                   object\n",
      "dtype: object\n"
     ]
    }
   ],
   "source": [
    "# Checking data types\n",
    "\n",
    "print(df[['Profit', 'Sales', 'Units Sold', 'Manufacturing Price', 'Sale Price', 'Gross Sales', 'Discounts', 'COGS']].dtypes)"
   ]
  },
  {
   "cell_type": "code",
   "execution_count": 10,
   "id": "9e768f41-a10f-466a-ab58-72f289245c16",
   "metadata": {},
   "outputs": [
    {
     "name": "stdout",
     "output_type": "stream",
     "text": [
      "['$3,010.80 ' '$3,026.40 ' '($25,841.25)' '($11,115.00)' ' $1,27,215.00 ']\n",
      "['$4,168.80 ' '$14,666.40 ' ' $3,87,618.75 ' ' $1,66,725.00 '\n",
      " ' $7,28,595.00 ']\n",
      "['$386.00 ' '$2,328.00 ' '$3,445.50 ' '$1,482.00 ' '$2,313.00 ']\n",
      "['$3.00 ' '$5.00 ' '$10.00 ' '$120.00 ' '$250.00 ']\n",
      "['$12.00 ' '$7.00 ' '$125.00 ' '$350.00 ' '$15.00 ']\n",
      "['$4,632.00 ' '$16,296.00 ' ' $4,30,687.50 ' ' $1,85,250.00 '\n",
      " ' $8,09,550.00 ']\n",
      "['$463.20 ' '$1,629.60 ' '$43,068.75 ' '$18,525.00 ' '$80,955.00 ']\n",
      "['$1,158.00 ' '$11,640.00 ' ' $4,13,460.00 ' ' $1,77,840.00 '\n",
      " ' $6,01,380.00 ']\n"
     ]
    }
   ],
   "source": [
    "# Checking values\n",
    "\n",
    "print(df_new['Profit'].unique()[:5])\n",
    "print(df_new['Sales'].unique()[:5])\n",
    "print(df_new['Units Sold'].unique()[:5])\n",
    "print(df_new['Manufacturing Price'].unique()[:5])\n",
    "print(df_new['Sale Price'].unique()[:5])\n",
    "print(df_new['Gross Sales'].unique()[:5])\n",
    "print(df_new['Discounts'].unique()[:5])\n",
    "print(df_new['COGS'].unique()[:5])"
   ]
  },
  {
   "cell_type": "code",
   "execution_count": 11,
   "id": "df0b1dfa-e45b-4b53-b8c4-57b878273929",
   "metadata": {},
   "outputs": [
    {
     "name": "stdout",
     "output_type": "stream",
     "text": [
      "['$4,168.80' '$14,666.40' '$3,87,618.75' '$1,66,725.00' '$7,28,595.00']\n",
      "['$3,010.80' '$3,026.40' '($25,841.25)' '($11,115.00)' '$1,27,215.00']\n",
      "['$386.00' '$2,328.00' '$3,445.50' '$1,482.00' '$2,313.00']\n",
      "['$3.00' '$5.00' '$10.00' '$120.00' '$250.00']\n",
      "['$12.00' '$7.00' '$125.00' '$350.00' '$15.00']\n",
      "['$4,632.00' '$16,296.00' '$4,30,687.50' '$1,85,250.00' '$8,09,550.00']\n",
      "['$463.20' '$1,629.60' '$43,068.75' '$18,525.00' '$80,955.00']\n",
      "['$1,158.00' '$11,640.00' '$4,13,460.00' '$1,77,840.00' '$6,01,380.00']\n"
     ]
    }
   ],
   "source": [
    "# Eliminating characters that disturbs our datas\n",
    "\n",
    "df_new['Sales'] = df_new['Sales'].str.strip()\n",
    "df_new['Profit'] = df_new['Profit'].str.strip()\n",
    "df_new['Units Sold'] = df_new['Units Sold'].str.strip()\n",
    "df_new['Manufacturing Price'] = df_new['Manufacturing Price'].str.strip()\n",
    "df_new['Sale Price'] = df_new['Sale Price'].str.strip()\n",
    "df_new['Gross Sales'] = df_new['Gross Sales'].str.strip()\n",
    "df_new['Discounts'] = df_new['Discounts'].str.strip()\n",
    "df_new['COGS'] = df_new['COGS'].str.strip()\n",
    "\n",
    "print(df_new['Sales'].unique()[:5])\n",
    "print(df_new['Profit'].unique()[:5])\n",
    "print(df_new['Units Sold'].unique()[:5])\n",
    "print(df_new['Manufacturing Price'].unique()[:5])\n",
    "print(df_new['Sale Price'].unique()[:5])\n",
    "print(df_new['Gross Sales'].unique()[:5])\n",
    "print(df_new['Discounts'].unique()[:5])\n",
    "print(df_new['COGS'].unique()[:5])"
   ]
  },
  {
   "cell_type": "code",
   "execution_count": 12,
   "id": "866b3d8f-df24-458b-b29a-b580e84e7132",
   "metadata": {},
   "outputs": [
    {
     "name": "stdout",
     "output_type": "stream",
     "text": [
      "['4168.80' '14666.40' '387618.75' '166725.00' '728595.00']\n",
      "['3010.80' '3026.40' '-25841.25' '-11115.00' '127215.00']\n",
      "['386.00' '2328.00' '3445.50' '1482.00' '2313.00']\n",
      "['3.00' '5.00' '10.00' '120.00' '250.00']\n",
      "['12.00' '7.00' '125.00' '350.00' '15.00']\n",
      "['4632.00' '16296.00' '430687.50' '185250.00' '809550.00']\n",
      "['463.20' '1629.60' '43068.75' '18525.00' '80955.00']\n",
      "['1158.00' '11640.00' '413460.00' '177840.00' '601380.00']\n"
     ]
    }
   ],
   "source": [
    "# verifying the data again\n",
    "\n",
    "df_clean = df_new.copy()\n",
    "\n",
    "for col in ['Sales', 'Profit', 'Units Sold', 'Manufacturing Price', 'Sale Price', 'Gross Sales', 'Discounts', 'COGS']:\n",
    "    df_clean[col] = df_clean[col].str.replace(r'[\\$,]', '', regex=True).str.strip()\n",
    "    df_clean[col] = df_clean[col].str.replace(r'\\((.*?)\\)', r'-\\1', regex=True).str.strip()\n",
    "    \n",
    "print(df_clean['Sales'].unique()[:5])\n",
    "print(df_clean['Profit'].unique()[:5])\n",
    "print(df_clean['Units Sold'].unique()[:5])\n",
    "print(df_clean['Manufacturing Price'].unique()[:5])\n",
    "print(df_clean['Sale Price'].unique()[:5])\n",
    "print(df_clean['Gross Sales'].unique()[:5])\n",
    "print(df_clean['Discounts'].unique()[:5])\n",
    "print(df_clean['COGS'].unique()[:5])"
   ]
  },
  {
   "cell_type": "code",
   "execution_count": 13,
   "id": "a17d402c-2f93-4a0b-a8a0-765bf90ae78f",
   "metadata": {},
   "outputs": [
    {
     "name": "stdout",
     "output_type": "stream",
     "text": [
      "Sales                  float64\n",
      "Profit                 float64\n",
      "Units Sold             float64\n",
      "Manufacturing Price    float64\n",
      "Sale Price             float64\n",
      "Gross Sales            float64\n",
      "Discounts              float64\n",
      "COGS                   float64\n",
      "dtype: object\n"
     ]
    },
    {
     "data": {
      "text/html": [
       "<div>\n",
       "<style scoped>\n",
       "    .dataframe tbody tr th:only-of-type {\n",
       "        vertical-align: middle;\n",
       "    }\n",
       "\n",
       "    .dataframe tbody tr th {\n",
       "        vertical-align: top;\n",
       "    }\n",
       "\n",
       "    .dataframe thead th {\n",
       "        text-align: right;\n",
       "    }\n",
       "</style>\n",
       "<table border=\"1\" class=\"dataframe\">\n",
       "  <thead>\n",
       "    <tr style=\"text-align: right;\">\n",
       "      <th></th>\n",
       "      <th>index</th>\n",
       "      <th>Segment</th>\n",
       "      <th>Country</th>\n",
       "      <th>Product</th>\n",
       "      <th>Discount Band</th>\n",
       "      <th>Units Sold</th>\n",
       "      <th>Manufacturing Price</th>\n",
       "      <th>Sale Price</th>\n",
       "      <th>Gross Sales</th>\n",
       "      <th>Discounts</th>\n",
       "      <th>Sales</th>\n",
       "      <th>COGS</th>\n",
       "      <th>Profit</th>\n",
       "      <th>Date</th>\n",
       "      <th>Month Number</th>\n",
       "      <th>Month Name</th>\n",
       "      <th>Year</th>\n",
       "    </tr>\n",
       "  </thead>\n",
       "  <tbody>\n",
       "    <tr>\n",
       "      <th>0</th>\n",
       "      <td>455</td>\n",
       "      <td>Channel Partners</td>\n",
       "      <td>United States of America</td>\n",
       "      <td>Carretera</td>\n",
       "      <td>High</td>\n",
       "      <td>386.0</td>\n",
       "      <td>3.0</td>\n",
       "      <td>12.0</td>\n",
       "      <td>4632.0</td>\n",
       "      <td>463.20</td>\n",
       "      <td>4168.80</td>\n",
       "      <td>1158.0</td>\n",
       "      <td>3010.80</td>\n",
       "      <td>1/10/2013</td>\n",
       "      <td>10</td>\n",
       "      <td>October</td>\n",
       "      <td>2013</td>\n",
       "    </tr>\n",
       "    <tr>\n",
       "      <th>1</th>\n",
       "      <td>456</td>\n",
       "      <td>Government</td>\n",
       "      <td>United States of America</td>\n",
       "      <td>Montana</td>\n",
       "      <td>High</td>\n",
       "      <td>2328.0</td>\n",
       "      <td>5.0</td>\n",
       "      <td>7.0</td>\n",
       "      <td>16296.0</td>\n",
       "      <td>1629.60</td>\n",
       "      <td>14666.40</td>\n",
       "      <td>11640.0</td>\n",
       "      <td>3026.40</td>\n",
       "      <td>1/9/2014</td>\n",
       "      <td>9</td>\n",
       "      <td>September</td>\n",
       "      <td>2014</td>\n",
       "    </tr>\n",
       "    <tr>\n",
       "      <th>2</th>\n",
       "      <td>457</td>\n",
       "      <td>Channel Partners</td>\n",
       "      <td>United States of America</td>\n",
       "      <td>Paseo</td>\n",
       "      <td>High</td>\n",
       "      <td>386.0</td>\n",
       "      <td>10.0</td>\n",
       "      <td>12.0</td>\n",
       "      <td>4632.0</td>\n",
       "      <td>463.20</td>\n",
       "      <td>4168.80</td>\n",
       "      <td>1158.0</td>\n",
       "      <td>3010.80</td>\n",
       "      <td>1/10/2013</td>\n",
       "      <td>10</td>\n",
       "      <td>October</td>\n",
       "      <td>2013</td>\n",
       "    </tr>\n",
       "    <tr>\n",
       "      <th>3</th>\n",
       "      <td>458</td>\n",
       "      <td>Enterprise</td>\n",
       "      <td>United States of America</td>\n",
       "      <td>Carretera</td>\n",
       "      <td>High</td>\n",
       "      <td>3445.5</td>\n",
       "      <td>3.0</td>\n",
       "      <td>125.0</td>\n",
       "      <td>430687.5</td>\n",
       "      <td>43068.75</td>\n",
       "      <td>387618.75</td>\n",
       "      <td>413460.0</td>\n",
       "      <td>-25841.25</td>\n",
       "      <td>1/4/2014</td>\n",
       "      <td>4</td>\n",
       "      <td>April</td>\n",
       "      <td>2014</td>\n",
       "    </tr>\n",
       "    <tr>\n",
       "      <th>4</th>\n",
       "      <td>459</td>\n",
       "      <td>Enterprise</td>\n",
       "      <td>France</td>\n",
       "      <td>Carretera</td>\n",
       "      <td>High</td>\n",
       "      <td>1482.0</td>\n",
       "      <td>3.0</td>\n",
       "      <td>125.0</td>\n",
       "      <td>185250.0</td>\n",
       "      <td>18525.00</td>\n",
       "      <td>166725.00</td>\n",
       "      <td>177840.0</td>\n",
       "      <td>-11115.00</td>\n",
       "      <td>1/12/2013</td>\n",
       "      <td>12</td>\n",
       "      <td>December</td>\n",
       "      <td>2013</td>\n",
       "    </tr>\n",
       "    <tr>\n",
       "      <th>...</th>\n",
       "      <td>...</td>\n",
       "      <td>...</td>\n",
       "      <td>...</td>\n",
       "      <td>...</td>\n",
       "      <td>...</td>\n",
       "      <td>...</td>\n",
       "      <td>...</td>\n",
       "      <td>...</td>\n",
       "      <td>...</td>\n",
       "      <td>...</td>\n",
       "      <td>...</td>\n",
       "      <td>...</td>\n",
       "      <td>...</td>\n",
       "      <td>...</td>\n",
       "      <td>...</td>\n",
       "      <td>...</td>\n",
       "      <td>...</td>\n",
       "    </tr>\n",
       "    <tr>\n",
       "      <th>695</th>\n",
       "      <td>48</td>\n",
       "      <td>Government</td>\n",
       "      <td>France</td>\n",
       "      <td>Amarilla</td>\n",
       "      <td>None</td>\n",
       "      <td>1899.0</td>\n",
       "      <td>260.0</td>\n",
       "      <td>20.0</td>\n",
       "      <td>37980.0</td>\n",
       "      <td>NaN</td>\n",
       "      <td>37980.00</td>\n",
       "      <td>18990.0</td>\n",
       "      <td>18990.00</td>\n",
       "      <td>1/6/2014</td>\n",
       "      <td>6</td>\n",
       "      <td>June</td>\n",
       "      <td>2014</td>\n",
       "    </tr>\n",
       "    <tr>\n",
       "      <th>696</th>\n",
       "      <td>49</td>\n",
       "      <td>Government</td>\n",
       "      <td>Germany</td>\n",
       "      <td>Amarilla</td>\n",
       "      <td>None</td>\n",
       "      <td>1686.0</td>\n",
       "      <td>260.0</td>\n",
       "      <td>7.0</td>\n",
       "      <td>11802.0</td>\n",
       "      <td>NaN</td>\n",
       "      <td>11802.00</td>\n",
       "      <td>8430.0</td>\n",
       "      <td>3372.00</td>\n",
       "      <td>1/7/2014</td>\n",
       "      <td>7</td>\n",
       "      <td>July</td>\n",
       "      <td>2014</td>\n",
       "    </tr>\n",
       "    <tr>\n",
       "      <th>697</th>\n",
       "      <td>50</td>\n",
       "      <td>Channel Partners</td>\n",
       "      <td>United States of America</td>\n",
       "      <td>Amarilla</td>\n",
       "      <td>None</td>\n",
       "      <td>2141.0</td>\n",
       "      <td>260.0</td>\n",
       "      <td>12.0</td>\n",
       "      <td>25692.0</td>\n",
       "      <td>NaN</td>\n",
       "      <td>25692.00</td>\n",
       "      <td>6423.0</td>\n",
       "      <td>19269.00</td>\n",
       "      <td>1/8/2014</td>\n",
       "      <td>8</td>\n",
       "      <td>August</td>\n",
       "      <td>2014</td>\n",
       "    </tr>\n",
       "    <tr>\n",
       "      <th>698</th>\n",
       "      <td>51</td>\n",
       "      <td>Government</td>\n",
       "      <td>United States of America</td>\n",
       "      <td>Amarilla</td>\n",
       "      <td>None</td>\n",
       "      <td>1143.0</td>\n",
       "      <td>260.0</td>\n",
       "      <td>7.0</td>\n",
       "      <td>8001.0</td>\n",
       "      <td>NaN</td>\n",
       "      <td>8001.00</td>\n",
       "      <td>5715.0</td>\n",
       "      <td>2286.00</td>\n",
       "      <td>1/10/2014</td>\n",
       "      <td>10</td>\n",
       "      <td>October</td>\n",
       "      <td>2014</td>\n",
       "    </tr>\n",
       "    <tr>\n",
       "      <th>699</th>\n",
       "      <td>52</td>\n",
       "      <td>Midmarket</td>\n",
       "      <td>United States of America</td>\n",
       "      <td>Amarilla</td>\n",
       "      <td>None</td>\n",
       "      <td>615.0</td>\n",
       "      <td>260.0</td>\n",
       "      <td>15.0</td>\n",
       "      <td>9225.0</td>\n",
       "      <td>NaN</td>\n",
       "      <td>9225.00</td>\n",
       "      <td>6150.0</td>\n",
       "      <td>3075.00</td>\n",
       "      <td>1/12/2014</td>\n",
       "      <td>12</td>\n",
       "      <td>December</td>\n",
       "      <td>2014</td>\n",
       "    </tr>\n",
       "  </tbody>\n",
       "</table>\n",
       "<p>700 rows × 17 columns</p>\n",
       "</div>"
      ],
      "text/plain": [
       "     index           Segment                   Country      Product  \\\n",
       "0      455  Channel Partners  United States of America   Carretera    \n",
       "1      456        Government  United States of America     Montana    \n",
       "2      457  Channel Partners  United States of America       Paseo    \n",
       "3      458        Enterprise  United States of America   Carretera    \n",
       "4      459        Enterprise                    France   Carretera    \n",
       "..     ...               ...                       ...          ...   \n",
       "695     48        Government                    France    Amarilla    \n",
       "696     49        Government                   Germany    Amarilla    \n",
       "697     50  Channel Partners  United States of America    Amarilla    \n",
       "698     51        Government  United States of America    Amarilla    \n",
       "699     52         Midmarket  United States of America    Amarilla    \n",
       "\n",
       "    Discount Band  Units Sold  Manufacturing Price  Sale Price  Gross Sales  \\\n",
       "0            High       386.0                  3.0        12.0       4632.0   \n",
       "1            High      2328.0                  5.0         7.0      16296.0   \n",
       "2            High       386.0                 10.0        12.0       4632.0   \n",
       "3            High      3445.5                  3.0       125.0     430687.5   \n",
       "4            High      1482.0                  3.0       125.0     185250.0   \n",
       "..            ...         ...                  ...         ...          ...   \n",
       "695          None      1899.0                260.0        20.0      37980.0   \n",
       "696          None      1686.0                260.0         7.0      11802.0   \n",
       "697          None      2141.0                260.0        12.0      25692.0   \n",
       "698          None      1143.0                260.0         7.0       8001.0   \n",
       "699          None       615.0                260.0        15.0       9225.0   \n",
       "\n",
       "     Discounts      Sales      COGS    Profit       Date  Month Number  \\\n",
       "0       463.20    4168.80    1158.0   3010.80  1/10/2013            10   \n",
       "1      1629.60   14666.40   11640.0   3026.40   1/9/2014             9   \n",
       "2       463.20    4168.80    1158.0   3010.80  1/10/2013            10   \n",
       "3     43068.75  387618.75  413460.0 -25841.25   1/4/2014             4   \n",
       "4     18525.00  166725.00  177840.0 -11115.00  1/12/2013            12   \n",
       "..         ...        ...       ...       ...        ...           ...   \n",
       "695        NaN   37980.00   18990.0  18990.00   1/6/2014             6   \n",
       "696        NaN   11802.00    8430.0   3372.00   1/7/2014             7   \n",
       "697        NaN   25692.00    6423.0  19269.00   1/8/2014             8   \n",
       "698        NaN    8001.00    5715.0   2286.00  1/10/2014            10   \n",
       "699        NaN    9225.00    6150.0   3075.00  1/12/2014            12   \n",
       "\n",
       "      Month Name  Year  \n",
       "0       October   2013  \n",
       "1     September   2014  \n",
       "2       October   2013  \n",
       "3         April   2014  \n",
       "4      December   2013  \n",
       "..           ...   ...  \n",
       "695        June   2014  \n",
       "696        July   2014  \n",
       "697      August   2014  \n",
       "698     October   2014  \n",
       "699    December   2014  \n",
       "\n",
       "[700 rows x 17 columns]"
      ]
     },
     "execution_count": 13,
     "metadata": {},
     "output_type": "execute_result"
    }
   ],
   "source": [
    "# converting strings into numbers\n",
    "\n",
    "for col in ['Sales', 'Profit', 'Units Sold', 'Manufacturing Price', 'Sale Price', 'Gross Sales', 'Discounts', 'COGS']:\n",
    "    df_clean[col] = pd.to_numeric(df_clean[col], errors='coerce')\n",
    "print(df_clean[['Sales', 'Profit', 'Units Sold', 'Manufacturing Price', 'Sale Price', 'Gross Sales', 'Discounts', 'COGS']].dtypes)\n",
    "df_clean"
   ]
  },
  {
   "cell_type": "code",
   "execution_count": 14,
   "id": "3311a574-c809-4546-b4e5-942224d84d0c",
   "metadata": {},
   "outputs": [
    {
     "data": {
      "text/plain": [
       "count           700\n",
       "unique           16\n",
       "top       1/10/2013\n",
       "freq             70\n",
       "Name: Date, dtype: object"
      ]
     },
     "execution_count": 14,
     "metadata": {},
     "output_type": "execute_result"
    }
   ],
   "source": [
    "df_clean['Date'].describe()"
   ]
  },
  {
   "cell_type": "code",
   "execution_count": 15,
   "id": "8b902c88-d8a9-433e-ae26-3b820647dcdf",
   "metadata": {},
   "outputs": [
    {
     "data": {
      "text/plain": [
       "0     2013-10-01\n",
       "1     2014-09-01\n",
       "2     2013-10-01\n",
       "3     2014-04-01\n",
       "4     2013-12-01\n",
       "         ...    \n",
       "695   2014-06-01\n",
       "696   2014-07-01\n",
       "697   2014-08-01\n",
       "698   2014-10-01\n",
       "699   2014-12-01\n",
       "Name: Date, Length: 700, dtype: datetime64[ns]"
      ]
     },
     "execution_count": 15,
     "metadata": {},
     "output_type": "execute_result"
    }
   ],
   "source": [
    "df_clean['Date'] = pd.to_datetime(df_clean['Date'], dayfirst=True, errors='coerce')\n",
    "df_clean['Date']"
   ]
  },
  {
   "cell_type": "code",
   "execution_count": 16,
   "id": "add1b4d0-6a3e-4d11-bb52-672dab460305",
   "metadata": {},
   "outputs": [
    {
     "name": "stdout",
     "output_type": "stream",
     "text": [
      "datetime64[ns]\n"
     ]
    }
   ],
   "source": [
    "print(df_clean['Date'].dtype)"
   ]
  },
  {
   "cell_type": "code",
   "execution_count": 17,
   "id": "b3221624-04e9-4285-895b-cd4f2e6499c4",
   "metadata": {},
   "outputs": [
    {
     "name": "stdout",
     "output_type": "stream",
     "text": [
      "Profit     24307.485309\n",
      "Sales     169609.071843\n",
      "COGS      145475.211429\n",
      "dtype: float64\n"
     ]
    }
   ],
   "source": [
    "print(df_clean[['Profit', 'Sales', 'COGS']].mean())"
   ]
  },
  {
   "cell_type": "code",
   "execution_count": 18,
   "id": "87619918-92dd-4856-a7cb-c4d85c17071f",
   "metadata": {},
   "outputs": [
    {
     "name": "stdout",
     "output_type": "stream",
     "text": [
      "   Year   MEAN_Profit     MEAN_Sales      MEAN_COGS\n",
      "0  2013  22162.654343  150944.317200  128781.662857\n",
      "1  2014  25029.303423  175830.656724  151039.727619\n"
     ]
    }
   ],
   "source": [
    "# Displaying mean for profit, Sales and COGS for both years, 2013 and 2014\n",
    "\n",
    "df_clean.to_sql('Sales_Evo', conn, if_exists='replace', index=False)\n",
    "\n",
    "query2 = \"\"\"\n",
    "SELECT\n",
    " strftime('%Y', Date) AS Year,\n",
    " AVG(Profit) AS MEAN_Profit,\n",
    " AVG(Sales) AS MEAN_Sales,\n",
    " AVG(COGS) AS MEAN_COGS\n",
    "FROM\n",
    " Sales_Evo\n",
    "GROUP BY\n",
    " Year\n",
    "ORDER BY\n",
    " Year\n",
    "\"\"\"\n",
    "\n",
    "df_sales_evo = pd.read_sql_query(query2, conn)\n",
    "print(df_sales_evo)"
   ]
  },
  {
   "cell_type": "code",
   "execution_count": 19,
   "id": "c312748c-5f68-41c0-8bd1-4f4df66ab89b",
   "metadata": {},
   "outputs": [
    {
     "name": "stdout",
     "output_type": "stream",
     "text": [
      "   Year Discount Band  count          mean     median       max       min\n",
      "0  2013          High     60  12134.729667   7373.750  102850.0 -40617.50\n",
      "1  2013           Low     43  31652.698372   6802.080  246178.0   1237.50\n",
      "2  2013        Medium     64  22376.120312  11481.225  143244.0 -11606.25\n",
      "3  2013          None      8  44655.375000   9484.000  155250.0   1725.00\n",
      "4  2014          High    185  14382.610595   7225.950  154385.0 -38046.25\n",
      "5  2014           Low    112  43105.282857  11344.200  262200.0    507.59\n",
      "6  2014        Medium    178  23300.287303  10951.900  188378.0 -17481.25\n",
      "7  2014          None     45  30649.155556  13905.000  247500.0   1766.00\n"
     ]
    }
   ],
   "source": [
    "summary_by_year = df_clean.groupby(['Year', 'Discount Band'])['Profit'].agg(['count', 'mean', 'median', 'max', 'min']).reset_index()\n",
    "\n",
    "print(summary_by_year)\n"
   ]
  },
  {
   "cell_type": "code",
   "execution_count": 20,
   "id": "217b25d4-20f6-4d6f-b5d4-6c24d3312ea6",
   "metadata": {},
   "outputs": [
    {
     "name": "stdout",
     "output_type": "stream",
     "text": [
      "   YearMonth DiscountBand    Avg_Profit      Avg_Sales       Avg_COGS\n",
      "0    2013-09         High   4187.438333   68505.605000   64318.166667\n",
      "1    2013-09          Low  42494.515000  201325.390000  158830.875000\n",
      "2    2013-09       Medium  16151.887500  106020.387500   89868.500000\n",
      "3    2013-09         None  59858.333333  259695.000000  199836.666667\n",
      "4    2013-10         High  11138.058333   81754.475000   70616.416667\n",
      "..       ...          ...           ...            ...            ...\n",
      "57   2014-11       Medium  11852.535000   52656.392143   40803.857143\n",
      "58   2014-12         High   7566.847000   39195.947000   31629.100000\n",
      "59   2014-12          Low  61950.321111  323922.989000  268167.700000\n",
      "60   2014-12       Medium  18520.549167  149424.132500  130903.583333\n",
      "61   2014-12         None  52471.666667  191705.000000  139233.333333\n",
      "\n",
      "[62 rows x 5 columns]\n"
     ]
    }
   ],
   "source": [
    "query_avg_monthly = \"\"\"\n",
    "SELECT\n",
    "  strftime('%Y-%m', Date) AS YearMonth,\n",
    "  [Discount Band] AS DiscountBand,\n",
    "  AVG(Profit) AS Avg_Profit,\n",
    "  AVG(Sales) AS Avg_Sales,\n",
    "  AVG(COGS) AS Avg_COGS\n",
    "FROM Sales_Evo\n",
    "GROUP BY YearMonth, [Discount Band]\n",
    "ORDER BY YearMonth ASC, [Discount Band];\n",
    "\"\"\"\n",
    "\n",
    "df_avg_monthly = pd.read_sql_query(query_avg_monthly, conn)\n",
    "print(df_avg_monthly)"
   ]
  },
  {
   "cell_type": "code",
   "execution_count": 21,
   "id": "3856211d-1dcd-4a70-a071-1a2311828d9b",
   "metadata": {},
   "outputs": [
    {
     "data": {
      "application/vnd.plotly.v1+json": {
       "config": {
        "plotlyServerURL": "https://plot.ly"
       },
       "data": [
        {
         "hovertemplate": "DiscountBand=High<br>Lună=%{x}<br>Profit Mediu ($)=%{y}<extra></extra>",
         "legendgroup": "High",
         "line": {
          "color": "#636efa",
          "dash": "solid"
         },
         "marker": {
          "symbol": "circle"
         },
         "mode": "lines",
         "name": "High",
         "orientation": "v",
         "showlegend": true,
         "type": "scatter",
         "x": [
          "2013-09",
          "2013-10",
          "2013-11",
          "2013-12",
          "2014-01",
          "2014-02",
          "2014-03",
          "2014-04",
          "2014-05",
          "2014-06",
          "2014-07",
          "2014-08",
          "2014-09",
          "2014-10",
          "2014-11",
          "2014-12"
         ],
         "xaxis": "x",
         "y": {
          "bdata": "agOdNnBbsEB4d3d3B8HFQC5vjGDiLtVAFa5H4frdxECuR+F6VBrOQN3m2G1OXM9AjwkezMO900DYiH+N2LPDQG7btm2jXdRAgU4b6KRN2UCF61G4hObXQKjGSzdZ8tJA7FG4Hg10skDxrGgkoK2xQAPkXnPhaNFAtvP91NiOvUA=",
          "dtype": "f8"
         },
         "yaxis": "y"
        },
        {
         "hovertemplate": "DiscountBand=Low<br>Lună=%{x}<br>Profit Mediu ($)=%{y}<extra></extra>",
         "legendgroup": "Low",
         "line": {
          "color": "#EF553B",
          "dash": "solid"
         },
         "marker": {
          "symbol": "circle"
         },
         "mode": "lines",
         "name": "Low",
         "orientation": "v",
         "showlegend": true,
         "type": "scatter",
         "x": [
          "2013-09",
          "2013-10",
          "2013-11",
          "2013-12",
          "2014-01",
          "2014-02",
          "2014-03",
          "2014-04",
          "2014-05",
          "2014-06",
          "2014-07",
          "2014-08",
          "2014-09",
          "2014-10",
          "2014-11",
          "2014-12"
         ],
         "xaxis": "x",
         "y": {
          "bdata": "rkfhetC/5EAEeUqQp07cQAisHFok8rZAZmZmZsab5UCkcD0K9Z7gQKYh5z7LeuVARgK+ecXh1UCPwvUooEXiQNejcD3Sn95AjhFM9HfZwUAK16NwvTjtQJDC9Sg01etA+FPjpfM+20BmZmbmtYXzQNBpA51+39tAFM+KRso/7kA=",
          "dtype": "f8"
         },
         "yaxis": "y"
        },
        {
         "hovertemplate": "DiscountBand=Medium<br>Lună=%{x}<br>Profit Mediu ($)=%{y}<extra></extra>",
         "legendgroup": "Medium",
         "line": {
          "color": "#00cc96",
          "dash": "solid"
         },
         "marker": {
          "symbol": "circle"
         },
         "mode": "lines",
         "name": "Medium",
         "orientation": "v",
         "showlegend": true,
         "type": "scatter",
         "x": [
          "2013-09",
          "2013-10",
          "2013-11",
          "2013-12",
          "2014-01",
          "2014-02",
          "2014-03",
          "2014-04",
          "2014-05",
          "2014-06",
          "2014-07",
          "2014-08",
          "2014-09",
          "2014-10",
          "2014-11",
          "2014-12"
         ],
         "xaxis": "x",
         "y": {
          "bdata": "mZmZmfGLz0D3DWvfiKHgQNbyxghuw9JApHA9CtfYykAxhAZDqAXhQIwlv1hWYthA4XoUrtkz0UDn+6nxapXiQPva4mAxeNVABoGVQ7tf1kD8qfHSNc7UQD0K16Ni9MtAXkBsKq1N5EAAAAAAlnPUQK5H4XpEJsdAWfKLJSMW0kA=",
          "dtype": "f8"
         },
         "yaxis": "y"
        },
        {
         "hovertemplate": "DiscountBand=None<br>Lună=%{x}<br>Profit Mediu ($)=%{y}<extra></extra>",
         "legendgroup": "None",
         "line": {
          "color": "#ab63fa",
          "dash": "solid"
         },
         "marker": {
          "symbol": "circle"
         },
         "mode": "lines",
         "name": "None",
         "orientation": "v",
         "showlegend": true,
         "type": "scatter",
         "x": [
          "2013-09",
          "2013-10",
          "2013-11",
          "2013-12",
          "2014-01",
          "2014-02",
          "2014-03",
          "2014-04",
          "2014-06",
          "2014-07",
          "2014-08",
          "2014-09",
          "2014-10",
          "2014-12"
         ],
         "xaxis": "x",
         "y": {
          "bdata": "q6qqqko67UAAAAAAAPSaQAAAAAAQ9PNAAAAAAAAExUBVVVVV1RTFQAAAAACAyvFAAAAAAIB9x0AAAAAAYOfUQEmSJElSPthAAAAAAIALukAAAAAAAEbUQFVVVVUVN+RAAAAAAADcoUBVVVVV9Z7pQA==",
          "dtype": "f8"
         },
         "yaxis": "y"
        }
       ],
       "layout": {
        "legend": {
         "title": {
          "text": "DiscountBand"
         },
         "tracegroupgap": 0
        },
        "template": {
         "data": {
          "bar": [
           {
            "error_x": {
             "color": "#2a3f5f"
            },
            "error_y": {
             "color": "#2a3f5f"
            },
            "marker": {
             "line": {
              "color": "#E5ECF6",
              "width": 0.5
             },
             "pattern": {
              "fillmode": "overlay",
              "size": 10,
              "solidity": 0.2
             }
            },
            "type": "bar"
           }
          ],
          "barpolar": [
           {
            "marker": {
             "line": {
              "color": "#E5ECF6",
              "width": 0.5
             },
             "pattern": {
              "fillmode": "overlay",
              "size": 10,
              "solidity": 0.2
             }
            },
            "type": "barpolar"
           }
          ],
          "carpet": [
           {
            "aaxis": {
             "endlinecolor": "#2a3f5f",
             "gridcolor": "white",
             "linecolor": "white",
             "minorgridcolor": "white",
             "startlinecolor": "#2a3f5f"
            },
            "baxis": {
             "endlinecolor": "#2a3f5f",
             "gridcolor": "white",
             "linecolor": "white",
             "minorgridcolor": "white",
             "startlinecolor": "#2a3f5f"
            },
            "type": "carpet"
           }
          ],
          "choropleth": [
           {
            "colorbar": {
             "outlinewidth": 0,
             "ticks": ""
            },
            "type": "choropleth"
           }
          ],
          "contour": [
           {
            "colorbar": {
             "outlinewidth": 0,
             "ticks": ""
            },
            "colorscale": [
             [
              0,
              "#0d0887"
             ],
             [
              0.1111111111111111,
              "#46039f"
             ],
             [
              0.2222222222222222,
              "#7201a8"
             ],
             [
              0.3333333333333333,
              "#9c179e"
             ],
             [
              0.4444444444444444,
              "#bd3786"
             ],
             [
              0.5555555555555556,
              "#d8576b"
             ],
             [
              0.6666666666666666,
              "#ed7953"
             ],
             [
              0.7777777777777778,
              "#fb9f3a"
             ],
             [
              0.8888888888888888,
              "#fdca26"
             ],
             [
              1,
              "#f0f921"
             ]
            ],
            "type": "contour"
           }
          ],
          "contourcarpet": [
           {
            "colorbar": {
             "outlinewidth": 0,
             "ticks": ""
            },
            "type": "contourcarpet"
           }
          ],
          "heatmap": [
           {
            "colorbar": {
             "outlinewidth": 0,
             "ticks": ""
            },
            "colorscale": [
             [
              0,
              "#0d0887"
             ],
             [
              0.1111111111111111,
              "#46039f"
             ],
             [
              0.2222222222222222,
              "#7201a8"
             ],
             [
              0.3333333333333333,
              "#9c179e"
             ],
             [
              0.4444444444444444,
              "#bd3786"
             ],
             [
              0.5555555555555556,
              "#d8576b"
             ],
             [
              0.6666666666666666,
              "#ed7953"
             ],
             [
              0.7777777777777778,
              "#fb9f3a"
             ],
             [
              0.8888888888888888,
              "#fdca26"
             ],
             [
              1,
              "#f0f921"
             ]
            ],
            "type": "heatmap"
           }
          ],
          "histogram": [
           {
            "marker": {
             "pattern": {
              "fillmode": "overlay",
              "size": 10,
              "solidity": 0.2
             }
            },
            "type": "histogram"
           }
          ],
          "histogram2d": [
           {
            "colorbar": {
             "outlinewidth": 0,
             "ticks": ""
            },
            "colorscale": [
             [
              0,
              "#0d0887"
             ],
             [
              0.1111111111111111,
              "#46039f"
             ],
             [
              0.2222222222222222,
              "#7201a8"
             ],
             [
              0.3333333333333333,
              "#9c179e"
             ],
             [
              0.4444444444444444,
              "#bd3786"
             ],
             [
              0.5555555555555556,
              "#d8576b"
             ],
             [
              0.6666666666666666,
              "#ed7953"
             ],
             [
              0.7777777777777778,
              "#fb9f3a"
             ],
             [
              0.8888888888888888,
              "#fdca26"
             ],
             [
              1,
              "#f0f921"
             ]
            ],
            "type": "histogram2d"
           }
          ],
          "histogram2dcontour": [
           {
            "colorbar": {
             "outlinewidth": 0,
             "ticks": ""
            },
            "colorscale": [
             [
              0,
              "#0d0887"
             ],
             [
              0.1111111111111111,
              "#46039f"
             ],
             [
              0.2222222222222222,
              "#7201a8"
             ],
             [
              0.3333333333333333,
              "#9c179e"
             ],
             [
              0.4444444444444444,
              "#bd3786"
             ],
             [
              0.5555555555555556,
              "#d8576b"
             ],
             [
              0.6666666666666666,
              "#ed7953"
             ],
             [
              0.7777777777777778,
              "#fb9f3a"
             ],
             [
              0.8888888888888888,
              "#fdca26"
             ],
             [
              1,
              "#f0f921"
             ]
            ],
            "type": "histogram2dcontour"
           }
          ],
          "mesh3d": [
           {
            "colorbar": {
             "outlinewidth": 0,
             "ticks": ""
            },
            "type": "mesh3d"
           }
          ],
          "parcoords": [
           {
            "line": {
             "colorbar": {
              "outlinewidth": 0,
              "ticks": ""
             }
            },
            "type": "parcoords"
           }
          ],
          "pie": [
           {
            "automargin": true,
            "type": "pie"
           }
          ],
          "scatter": [
           {
            "fillpattern": {
             "fillmode": "overlay",
             "size": 10,
             "solidity": 0.2
            },
            "type": "scatter"
           }
          ],
          "scatter3d": [
           {
            "line": {
             "colorbar": {
              "outlinewidth": 0,
              "ticks": ""
             }
            },
            "marker": {
             "colorbar": {
              "outlinewidth": 0,
              "ticks": ""
             }
            },
            "type": "scatter3d"
           }
          ],
          "scattercarpet": [
           {
            "marker": {
             "colorbar": {
              "outlinewidth": 0,
              "ticks": ""
             }
            },
            "type": "scattercarpet"
           }
          ],
          "scattergeo": [
           {
            "marker": {
             "colorbar": {
              "outlinewidth": 0,
              "ticks": ""
             }
            },
            "type": "scattergeo"
           }
          ],
          "scattergl": [
           {
            "marker": {
             "colorbar": {
              "outlinewidth": 0,
              "ticks": ""
             }
            },
            "type": "scattergl"
           }
          ],
          "scattermap": [
           {
            "marker": {
             "colorbar": {
              "outlinewidth": 0,
              "ticks": ""
             }
            },
            "type": "scattermap"
           }
          ],
          "scattermapbox": [
           {
            "marker": {
             "colorbar": {
              "outlinewidth": 0,
              "ticks": ""
             }
            },
            "type": "scattermapbox"
           }
          ],
          "scatterpolar": [
           {
            "marker": {
             "colorbar": {
              "outlinewidth": 0,
              "ticks": ""
             }
            },
            "type": "scatterpolar"
           }
          ],
          "scatterpolargl": [
           {
            "marker": {
             "colorbar": {
              "outlinewidth": 0,
              "ticks": ""
             }
            },
            "type": "scatterpolargl"
           }
          ],
          "scatterternary": [
           {
            "marker": {
             "colorbar": {
              "outlinewidth": 0,
              "ticks": ""
             }
            },
            "type": "scatterternary"
           }
          ],
          "surface": [
           {
            "colorbar": {
             "outlinewidth": 0,
             "ticks": ""
            },
            "colorscale": [
             [
              0,
              "#0d0887"
             ],
             [
              0.1111111111111111,
              "#46039f"
             ],
             [
              0.2222222222222222,
              "#7201a8"
             ],
             [
              0.3333333333333333,
              "#9c179e"
             ],
             [
              0.4444444444444444,
              "#bd3786"
             ],
             [
              0.5555555555555556,
              "#d8576b"
             ],
             [
              0.6666666666666666,
              "#ed7953"
             ],
             [
              0.7777777777777778,
              "#fb9f3a"
             ],
             [
              0.8888888888888888,
              "#fdca26"
             ],
             [
              1,
              "#f0f921"
             ]
            ],
            "type": "surface"
           }
          ],
          "table": [
           {
            "cells": {
             "fill": {
              "color": "#EBF0F8"
             },
             "line": {
              "color": "white"
             }
            },
            "header": {
             "fill": {
              "color": "#C8D4E3"
             },
             "line": {
              "color": "white"
             }
            },
            "type": "table"
           }
          ]
         },
         "layout": {
          "annotationdefaults": {
           "arrowcolor": "#2a3f5f",
           "arrowhead": 0,
           "arrowwidth": 1
          },
          "autotypenumbers": "strict",
          "coloraxis": {
           "colorbar": {
            "outlinewidth": 0,
            "ticks": ""
           }
          },
          "colorscale": {
           "diverging": [
            [
             0,
             "#8e0152"
            ],
            [
             0.1,
             "#c51b7d"
            ],
            [
             0.2,
             "#de77ae"
            ],
            [
             0.3,
             "#f1b6da"
            ],
            [
             0.4,
             "#fde0ef"
            ],
            [
             0.5,
             "#f7f7f7"
            ],
            [
             0.6,
             "#e6f5d0"
            ],
            [
             0.7,
             "#b8e186"
            ],
            [
             0.8,
             "#7fbc41"
            ],
            [
             0.9,
             "#4d9221"
            ],
            [
             1,
             "#276419"
            ]
           ],
           "sequential": [
            [
             0,
             "#0d0887"
            ],
            [
             0.1111111111111111,
             "#46039f"
            ],
            [
             0.2222222222222222,
             "#7201a8"
            ],
            [
             0.3333333333333333,
             "#9c179e"
            ],
            [
             0.4444444444444444,
             "#bd3786"
            ],
            [
             0.5555555555555556,
             "#d8576b"
            ],
            [
             0.6666666666666666,
             "#ed7953"
            ],
            [
             0.7777777777777778,
             "#fb9f3a"
            ],
            [
             0.8888888888888888,
             "#fdca26"
            ],
            [
             1,
             "#f0f921"
            ]
           ],
           "sequentialminus": [
            [
             0,
             "#0d0887"
            ],
            [
             0.1111111111111111,
             "#46039f"
            ],
            [
             0.2222222222222222,
             "#7201a8"
            ],
            [
             0.3333333333333333,
             "#9c179e"
            ],
            [
             0.4444444444444444,
             "#bd3786"
            ],
            [
             0.5555555555555556,
             "#d8576b"
            ],
            [
             0.6666666666666666,
             "#ed7953"
            ],
            [
             0.7777777777777778,
             "#fb9f3a"
            ],
            [
             0.8888888888888888,
             "#fdca26"
            ],
            [
             1,
             "#f0f921"
            ]
           ]
          },
          "colorway": [
           "#636efa",
           "#EF553B",
           "#00cc96",
           "#ab63fa",
           "#FFA15A",
           "#19d3f3",
           "#FF6692",
           "#B6E880",
           "#FF97FF",
           "#FECB52"
          ],
          "font": {
           "color": "#2a3f5f"
          },
          "geo": {
           "bgcolor": "white",
           "lakecolor": "white",
           "landcolor": "#E5ECF6",
           "showlakes": true,
           "showland": true,
           "subunitcolor": "white"
          },
          "hoverlabel": {
           "align": "left"
          },
          "hovermode": "closest",
          "mapbox": {
           "style": "light"
          },
          "paper_bgcolor": "white",
          "plot_bgcolor": "#E5ECF6",
          "polar": {
           "angularaxis": {
            "gridcolor": "white",
            "linecolor": "white",
            "ticks": ""
           },
           "bgcolor": "#E5ECF6",
           "radialaxis": {
            "gridcolor": "white",
            "linecolor": "white",
            "ticks": ""
           }
          },
          "scene": {
           "xaxis": {
            "backgroundcolor": "#E5ECF6",
            "gridcolor": "white",
            "gridwidth": 2,
            "linecolor": "white",
            "showbackground": true,
            "ticks": "",
            "zerolinecolor": "white"
           },
           "yaxis": {
            "backgroundcolor": "#E5ECF6",
            "gridcolor": "white",
            "gridwidth": 2,
            "linecolor": "white",
            "showbackground": true,
            "ticks": "",
            "zerolinecolor": "white"
           },
           "zaxis": {
            "backgroundcolor": "#E5ECF6",
            "gridcolor": "white",
            "gridwidth": 2,
            "linecolor": "white",
            "showbackground": true,
            "ticks": "",
            "zerolinecolor": "white"
           }
          },
          "shapedefaults": {
           "line": {
            "color": "#2a3f5f"
           }
          },
          "ternary": {
           "aaxis": {
            "gridcolor": "white",
            "linecolor": "white",
            "ticks": ""
           },
           "baxis": {
            "gridcolor": "white",
            "linecolor": "white",
            "ticks": ""
           },
           "bgcolor": "#E5ECF6",
           "caxis": {
            "gridcolor": "white",
            "linecolor": "white",
            "ticks": ""
           }
          },
          "title": {
           "x": 0.05
          },
          "xaxis": {
           "automargin": true,
           "gridcolor": "white",
           "linecolor": "white",
           "ticks": "",
           "title": {
            "standoff": 15
           },
           "zerolinecolor": "white",
           "zerolinewidth": 2
          },
          "yaxis": {
           "automargin": true,
           "gridcolor": "white",
           "linecolor": "white",
           "ticks": "",
           "title": {
            "standoff": 15
           },
           "zerolinecolor": "white",
           "zerolinewidth": 2
          }
         }
        },
        "title": {
         "text": "Monthly Profit Evolution (mean) on Discount Band"
        },
        "xaxis": {
         "anchor": "y",
         "domain": [
          0,
          1
         ],
         "title": {
          "text": "Lună"
         }
        },
        "yaxis": {
         "anchor": "x",
         "domain": [
          0,
          1
         ],
         "title": {
          "text": "Profit Mediu ($)"
         }
        }
       }
      },
      "image/png": "[encoded data removed]"
     },
     "metadata": {},
     "output_type": "display_data"
    },
    {
     "data": {
      "application/vnd.plotly.v1+json": {
       "config": {
        "plotlyServerURL": "https://plot.ly"
       },
       "data": [
        {
         "hovertemplate": "DiscountBand=High<br>Lună=%{x}<br>Vânzări Medii ($)=%{y}<extra></extra>",
         "legendgroup": "High",
         "line": {
          "color": "#636efa",
          "dash": "solid"
         },
         "marker": {
          "symbol": "circle"
         },
         "mode": "lines",
         "name": "High",
         "orientation": "v",
         "showlegend": true,
         "type": "scatter",
         "x": [
          "2013-09",
          "2013-10",
          "2013-11",
          "2013-12",
          "2014-01",
          "2014-02",
          "2014-03",
          "2014-04",
          "2014-05",
          "2014-06",
          "2014-07",
          "2014-08",
          "2014-09",
          "2014-10",
          "2014-11",
          "2014-12"
         ],
         "xaxis": "x",
         "y": {
          "bdata": "4XoUrpm58ECZmZmZp/XzQPLGCCYWlxNB4noUrlvKC0F7FK5HuYwIQWdLdbbsXPhA3WsuJOuqB0G/fN7Li3P+QG7btm2spAVBJb9Y8ilRCkFxPQqXCu8HQW4Sg8BAAApBH4Xr0ZSn80DPikYCqmP5QCuHFtkulwxBqvHSTX4j40A=",
          "dtype": "f8"
         },
         "yaxis": "y"
        },
        {
         "hovertemplate": "DiscountBand=Low<br>Lună=%{x}<br>Vânzări Medii ($)=%{y}<extra></extra>",
         "legendgroup": "Low",
         "line": {
          "color": "#EF553B",
          "dash": "solid"
         },
         "marker": {
          "symbol": "circle"
         },
         "mode": "lines",
         "name": "Low",
         "orientation": "v",
         "showlegend": true,
         "type": "scatter",
         "x": [
          "2013-09",
          "2013-10",
          "2013-11",
          "2013-12",
          "2014-01",
          "2014-02",
          "2014-03",
          "2014-04",
          "2014-05",
          "2014-06",
          "2014-07",
          "2014-08",
          "2014-09",
          "2014-10",
          "2014-11",
          "2014-12"
         ],
         "xaxis": "x",
         "y": {
          "bdata": "7FG4HmuTCEF+w9o35IQDQYGVQ4sEOulAmpmZmeofBkEpXI9C4TQIQbJa3hi1kQtB6iYxCNbA/UCUIE8JXLUKQXsUrkc+fg1BDjn32TU8+EBnZmZmEVoSQVK4HoXmixVBZTvfT9tx+kCamZn516wXQTttoNNLEQdBf2q89EvFE0E=",
          "dtype": "f8"
         },
         "yaxis": "y"
        },
        {
         "hovertemplate": "DiscountBand=Medium<br>Lună=%{x}<br>Vânzări Medii ($)=%{y}<extra></extra>",
         "legendgroup": "Medium",
         "line": {
          "color": "#00cc96",
          "dash": "solid"
         },
         "marker": {
          "symbol": "circle"
         },
         "mode": "lines",
         "name": "Medium",
         "orientation": "v",
         "showlegend": true,
         "type": "scatter",
         "x": [
          "2013-09",
          "2013-10",
          "2013-11",
          "2013-12",
          "2014-01",
          "2014-02",
          "2014-03",
          "2014-04",
          "2014-05",
          "2014-06",
          "2014-07",
          "2014-08",
          "2014-09",
          "2014-10",
          "2014-11",
          "2014-12"
         ],
         "xaxis": "x",
         "y": {
          "bdata": "MzMzM0bi+UA4rH3DgLEEQVveGMGRkgBBFK5H4YOP+EBpFZNWLdEJQVyPwnUdlgxBXI/CNWqrBUFg5dAiX8APQcKCko412wBBzFodE8JNAkGgGi9daSoRQUjhelTjzPNAnqyWN1pTEUEAAADAdWICQVktb4wMtulA9ihcD4E9AkE=",
          "dtype": "f8"
         },
         "yaxis": "y"
        },
        {
         "hovertemplate": "DiscountBand=None<br>Lună=%{x}<br>Vânzări Medii ($)=%{y}<extra></extra>",
         "legendgroup": "None",
         "line": {
          "color": "#ab63fa",
          "dash": "solid"
         },
         "marker": {
          "symbol": "circle"
         },
         "mode": "lines",
         "name": "None",
         "orientation": "v",
         "showlegend": true,
         "type": "scatter",
         "x": [
          "2013-09",
          "2013-10",
          "2013-11",
          "2013-12",
          "2014-01",
          "2014-02",
          "2014-03",
          "2014-04",
          "2014-06",
          "2014-07",
          "2014-08",
          "2014-09",
          "2014-10",
          "2014-12"
         ],
         "xaxis": "x",
         "y": {
          "bdata": "AAAAAHizD0EAAAAAoA7lQAAAAABMwhJBAAAAAACG30BVVVVVFYrWQAAAAABYFBZBAAAAAGBo00AAAAAABM0HQW7btm2bM/JAAAAAAAhv/EAAAAAANIEEQauqqqqaYAxBAAAAAABBv0AAAAAAyGYHQQ==",
          "dtype": "f8"
         },
         "yaxis": "y"
        }
       ],
       "layout": {
        "legend": {
         "title": {
          "text": "DiscountBand"
         },
         "tracegroupgap": 0
        },
        "template": {
         "data": {
          "bar": [
           {
            "error_x": {
             "color": "#2a3f5f"
            },
            "error_y": {
             "color": "#2a3f5f"
            },
            "marker": {
             "line": {
              "color": "#E5ECF6",
              "width": 0.5
             },
             "pattern": {
              "fillmode": "overlay",
              "size": 10,
              "solidity": 0.2
             }
            },
            "type": "bar"
           }
          ],
          "barpolar": [
           {
            "marker": {
             "line": {
              "color": "#E5ECF6",
              "width": 0.5
             },
             "pattern": {
              "fillmode": "overlay",
              "size": 10,
              "solidity": 0.2
             }
            },
            "type": "barpolar"
           }
          ],
          "carpet": [
           {
            "aaxis": {
             "endlinecolor": "#2a3f5f",
             "gridcolor": "white",
             "linecolor": "white",
             "minorgridcolor": "white",
             "startlinecolor": "#2a3f5f"
            },
            "baxis": {
             "endlinecolor": "#2a3f5f",
             "gridcolor": "white",
             "linecolor": "white",
             "minorgridcolor": "white",
             "startlinecolor": "#2a3f5f"
            },
            "type": "carpet"
           }
          ],
          "choropleth": [
           {
            "colorbar": {
             "outlinewidth": 0,
             "ticks": ""
            },
            "type": "choropleth"
           }
          ],
          "contour": [
           {
            "colorbar": {
             "outlinewidth": 0,
             "ticks": ""
            },
            "colorscale": [
             [
              0,
              "#0d0887"
             ],
             [
              0.1111111111111111,
              "#46039f"
             ],
             [
              0.2222222222222222,
              "#7201a8"
             ],
             [
              0.3333333333333333,
              "#9c179e"
             ],
             [
              0.4444444444444444,
              "#bd3786"
             ],
             [
              0.5555555555555556,
              "#d8576b"
             ],
             [
              0.6666666666666666,
              "#ed7953"
             ],
             [
              0.7777777777777778,
              "#fb9f3a"
             ],
             [
              0.8888888888888888,
              "#fdca26"
             ],
             [
              1,
              "#f0f921"
             ]
            ],
            "type": "contour"
           }
          ],
          "contourcarpet": [
           {
            "colorbar": {
             "outlinewidth": 0,
             "ticks": ""
            },
            "type": "contourcarpet"
           }
          ],
          "heatmap": [
           {
            "colorbar": {
             "outlinewidth": 0,
             "ticks": ""
            },
            "colorscale": [
             [
              0,
              "#0d0887"
             ],
             [
              0.1111111111111111,
              "#46039f"
             ],
             [
              0.2222222222222222,
              "#7201a8"
             ],
             [
              0.3333333333333333,
              "#9c179e"
             ],
             [
              0.4444444444444444,
              "#bd3786"
             ],
             [
              0.5555555555555556,
              "#d8576b"
             ],
             [
              0.6666666666666666,
              "#ed7953"
             ],
             [
              0.7777777777777778,
              "#fb9f3a"
             ],
             [
              0.8888888888888888,
              "#fdca26"
             ],
             [
              1,
              "#f0f921"
             ]
            ],
            "type": "heatmap"
           }
          ],
          "histogram": [
           {
            "marker": {
             "pattern": {
              "fillmode": "overlay",
              "size": 10,
              "solidity": 0.2
             }
            },
            "type": "histogram"
           }
          ],
          "histogram2d": [
           {
            "colorbar": {
             "outlinewidth": 0,
             "ticks": ""
            },
            "colorscale": [
             [
              0,
              "#0d0887"
             ],
             [
              0.1111111111111111,
              "#46039f"
             ],
             [
              0.2222222222222222,
              "#7201a8"
             ],
             [
              0.3333333333333333,
              "#9c179e"
             ],
             [
              0.4444444444444444,
              "#bd3786"
             ],
             [
              0.5555555555555556,
              "#d8576b"
             ],
             [
              0.6666666666666666,
              "#ed7953"
             ],
             [
              0.7777777777777778,
              "#fb9f3a"
             ],
             [
              0.8888888888888888,
              "#fdca26"
             ],
             [
              1,
              "#f0f921"
             ]
            ],
            "type": "histogram2d"
           }
          ],
          "histogram2dcontour": [
           {
            "colorbar": {
             "outlinewidth": 0,
             "ticks": ""
            },
            "colorscale": [
             [
              0,
              "#0d0887"
             ],
             [
              0.1111111111111111,
              "#46039f"
             ],
             [
              0.2222222222222222,
              "#7201a8"
             ],
             [
              0.3333333333333333,
              "#9c179e"
             ],
             [
              0.4444444444444444,
              "#bd3786"
             ],
             [
              0.5555555555555556,
              "#d8576b"
             ],
             [
              0.6666666666666666,
              "#ed7953"
             ],
             [
              0.7777777777777778,
              "#fb9f3a"
             ],
             [
              0.8888888888888888,
              "#fdca26"
             ],
             [
              1,
              "#f0f921"
             ]
            ],
            "type": "histogram2dcontour"
           }
          ],
          "mesh3d": [
           {
            "colorbar": {
             "outlinewidth": 0,
             "ticks": ""
            },
            "type": "mesh3d"
           }
          ],
          "parcoords": [
           {
            "line": {
             "colorbar": {
              "outlinewidth": 0,
              "ticks": ""
             }
            },
            "type": "parcoords"
           }
          ],
          "pie": [
           {
            "automargin": true,
            "type": "pie"
           }
          ],
          "scatter": [
           {
            "fillpattern": {
             "fillmode": "overlay",
             "size": 10,
             "solidity": 0.2
            },
            "type": "scatter"
           }
          ],
          "scatter3d": [
           {
            "line": {
             "colorbar": {
              "outlinewidth": 0,
              "ticks": ""
             }
            },
            "marker": {
             "colorbar": {
              "outlinewidth": 0,
              "ticks": ""
             }
            },
            "type": "scatter3d"
           }
          ],
          "scattercarpet": [
           {
            "marker": {
             "colorbar": {
              "outlinewidth": 0,
              "ticks": ""
             }
            },
            "type": "scattercarpet"
           }
          ],
          "scattergeo": [
           {
            "marker": {
             "colorbar": {
              "outlinewidth": 0,
              "ticks": ""
             }
            },
            "type": "scattergeo"
           }
          ],
          "scattergl": [
           {
            "marker": {
             "colorbar": {
              "outlinewidth": 0,
              "ticks": ""
             }
            },
            "type": "scattergl"
           }
          ],
          "scattermap": [
           {
            "marker": {
             "colorbar": {
              "outlinewidth": 0,
              "ticks": ""
             }
            },
            "type": "scattermap"
           }
          ],
          "scattermapbox": [
           {
            "marker": {
             "colorbar": {
              "outlinewidth": 0,
              "ticks": ""
             }
            },
            "type": "scattermapbox"
           }
          ],
          "scatterpolar": [
           {
            "marker": {
             "colorbar": {
              "outlinewidth": 0,
              "ticks": ""
             }
            },
            "type": "scatterpolar"
           }
          ],
          "scatterpolargl": [
           {
            "marker": {
             "colorbar": {
              "outlinewidth": 0,
              "ticks": ""
             }
            },
            "type": "scatterpolargl"
           }
          ],
          "scatterternary": [
           {
            "marker": {
             "colorbar": {
              "outlinewidth": 0,
              "ticks": ""
             }
            },
            "type": "scatterternary"
           }
          ],
          "surface": [
           {
            "colorbar": {
             "outlinewidth": 0,
             "ticks": ""
            },
            "colorscale": [
             [
              0,
              "#0d0887"
             ],
             [
              0.1111111111111111,
              "#46039f"
             ],
             [
              0.2222222222222222,
              "#7201a8"
             ],
             [
              0.3333333333333333,
              "#9c179e"
             ],
             [
              0.4444444444444444,
              "#bd3786"
             ],
             [
              0.5555555555555556,
              "#d8576b"
             ],
             [
              0.6666666666666666,
              "#ed7953"
             ],
             [
              0.7777777777777778,
              "#fb9f3a"
             ],
             [
              0.8888888888888888,
              "#fdca26"
             ],
             [
              1,
              "#f0f921"
             ]
            ],
            "type": "surface"
           }
          ],
          "table": [
           {
            "cells": {
             "fill": {
              "color": "#EBF0F8"
             },
             "line": {
              "color": "white"
             }
            },
            "header": {
             "fill": {
              "color": "#C8D4E3"
             },
             "line": {
              "color": "white"
             }
            },
            "type": "table"
           }
          ]
         },
         "layout": {
          "annotationdefaults": {
           "arrowcolor": "#2a3f5f",
           "arrowhead": 0,
           "arrowwidth": 1
          },
          "autotypenumbers": "strict",
          "coloraxis": {
           "colorbar": {
            "outlinewidth": 0,
            "ticks": ""
           }
          },
          "colorscale": {
           "diverging": [
            [
             0,
             "#8e0152"
            ],
            [
             0.1,
             "#c51b7d"
            ],
            [
             0.2,
             "#de77ae"
            ],
            [
             0.3,
             "#f1b6da"
            ],
            [
             0.4,
             "#fde0ef"
            ],
            [
             0.5,
             "#f7f7f7"
            ],
            [
             0.6,
             "#e6f5d0"
            ],
            [
             0.7,
             "#b8e186"
            ],
            [
             0.8,
             "#7fbc41"
            ],
            [
             0.9,
             "#4d9221"
            ],
            [
             1,
             "#276419"
            ]
           ],
           "sequential": [
            [
             0,
             "#0d0887"
            ],
            [
             0.1111111111111111,
             "#46039f"
            ],
            [
             0.2222222222222222,
             "#7201a8"
            ],
            [
             0.3333333333333333,
             "#9c179e"
            ],
            [
             0.4444444444444444,
             "#bd3786"
            ],
            [
             0.5555555555555556,
             "#d8576b"
            ],
            [
             0.6666666666666666,
             "#ed7953"
            ],
            [
             0.7777777777777778,
             "#fb9f3a"
            ],
            [
             0.8888888888888888,
             "#fdca26"
            ],
            [
             1,
             "#f0f921"
            ]
           ],
           "sequentialminus": [
            [
             0,
             "#0d0887"
            ],
            [
             0.1111111111111111,
             "#46039f"
            ],
            [
             0.2222222222222222,
             "#7201a8"
            ],
            [
             0.3333333333333333,
             "#9c179e"
            ],
            [
             0.4444444444444444,
             "#bd3786"
            ],
            [
             0.5555555555555556,
             "#d8576b"
            ],
            [
             0.6666666666666666,
             "#ed7953"
            ],
            [
             0.7777777777777778,
             "#fb9f3a"
            ],
            [
             0.8888888888888888,
             "#fdca26"
            ],
            [
             1,
             "#f0f921"
            ]
           ]
          },
          "colorway": [
           "#636efa",
           "#EF553B",
           "#00cc96",
           "#ab63fa",
           "#FFA15A",
           "#19d3f3",
           "#FF6692",
           "#B6E880",
           "#FF97FF",
           "#FECB52"
          ],
          "font": {
           "color": "#2a3f5f"
          },
          "geo": {
           "bgcolor": "white",
           "lakecolor": "white",
           "landcolor": "#E5ECF6",
           "showlakes": true,
           "showland": true,
           "subunitcolor": "white"
          },
          "hoverlabel": {
           "align": "left"
          },
          "hovermode": "closest",
          "mapbox": {
           "style": "light"
          },
          "paper_bgcolor": "white",
          "plot_bgcolor": "#E5ECF6",
          "polar": {
           "angularaxis": {
            "gridcolor": "white",
            "linecolor": "white",
            "ticks": ""
           },
           "bgcolor": "#E5ECF6",
           "radialaxis": {
            "gridcolor": "white",
            "linecolor": "white",
            "ticks": ""
           }
          },
          "scene": {
           "xaxis": {
            "backgroundcolor": "#E5ECF6",
            "gridcolor": "white",
            "gridwidth": 2,
            "linecolor": "white",
            "showbackground": true,
            "ticks": "",
            "zerolinecolor": "white"
           },
           "yaxis": {
            "backgroundcolor": "#E5ECF6",
            "gridcolor": "white",
            "gridwidth": 2,
            "linecolor": "white",
            "showbackground": true,
            "ticks": "",
            "zerolinecolor": "white"
           },
           "zaxis": {
            "backgroundcolor": "#E5ECF6",
            "gridcolor": "white",
            "gridwidth": 2,
            "linecolor": "white",
            "showbackground": true,
            "ticks": "",
            "zerolinecolor": "white"
           }
          },
          "shapedefaults": {
           "line": {
            "color": "#2a3f5f"
           }
          },
          "ternary": {
           "aaxis": {
            "gridcolor": "white",
            "linecolor": "white",
            "ticks": ""
           },
           "baxis": {
            "gridcolor": "white",
            "linecolor": "white",
            "ticks": ""
           },
           "bgcolor": "#E5ECF6",
           "caxis": {
            "gridcolor": "white",
            "linecolor": "white",
            "ticks": ""
           }
          },
          "title": {
           "x": 0.05
          },
          "xaxis": {
           "automargin": true,
           "gridcolor": "white",
           "linecolor": "white",
           "ticks": "",
           "title": {
            "standoff": 15
           },
           "zerolinecolor": "white",
           "zerolinewidth": 2
          },
          "yaxis": {
           "automargin": true,
           "gridcolor": "white",
           "linecolor": "white",
           "ticks": "",
           "title": {
            "standoff": 15
           },
           "zerolinecolor": "white",
           "zerolinewidth": 2
          }
         }
        },
        "title": {
         "text": "Monthly Sales Evolution (mean) on Discount Band"
        },
        "xaxis": {
         "anchor": "y",
         "domain": [
          0,
          1
         ],
         "title": {
          "text": "Lună"
         }
        },
        "yaxis": {
         "anchor": "x",
         "domain": [
          0,
          1
         ],
         "title": {
          "text": "Vânzări Medii ($)"
         }
        }
       }
      },
      "image/png": "[encoded data removed]"
     },
     "metadata": {},
     "output_type": "display_data"
    },
    {
     "data": {
      "application/vnd.plotly.v1+json": {
       "config": {
        "plotlyServerURL": "https://plot.ly"
       },
       "data": [
        {
         "hovertemplate": "DiscountBand=High<br>Lună=%{x}<br>COGS Mediu ($)=%{y}<extra></extra>",
         "legendgroup": "High",
         "line": {
          "color": "#636efa",
          "dash": "solid"
         },
         "marker": {
          "symbol": "circle"
         },
         "mode": "lines",
         "name": "High",
         "orientation": "v",
         "showlegend": true,
         "type": "scatter",
         "x": [
          "2013-09",
          "2013-10",
          "2013-11",
          "2013-12",
          "2014-01",
          "2014-02",
          "2014-03",
          "2014-04",
          "2014-05",
          "2014-06",
          "2014-07",
          "2014-08",
          "2014-09",
          "2014-10",
          "2014-11",
          "2014-12"
         ],
         "xaxis": "x",
         "y": {
          "bdata": "VVVVVcVn70Crqqqqhj3xQAAAAAAoRBJBAAAAAHx8CkEAAAAAFKsGQYwuuuhicfRAq6qqqjIzBUGjiy66EP37QAAAAAD4GANBVVVVVXUnB0EAAAAAOvIEQZqZmZn1oQdBAAAAAFSA8kAAAAAA0Ej4QKuqqqoSagpBZmZmZkbj3kA=",
          "dtype": "f8"
         },
         "yaxis": "y"
        },
        {
         "hovertemplate": "DiscountBand=Low<br>Lună=%{x}<br>COGS Mediu ($)=%{y}<extra></extra>",
         "legendgroup": "Low",
         "line": {
          "color": "#EF553B",
          "dash": "solid"
         },
         "marker": {
          "symbol": "circle"
         },
         "mode": "lines",
         "name": "Low",
         "orientation": "v",
         "showlegend": true,
         "type": "scatter",
         "x": [
          "2013-09",
          "2013-10",
          "2013-11",
          "2013-12",
          "2014-01",
          "2014-02",
          "2014-03",
          "2014-04",
          "2014-05",
          "2014-06",
          "2014-07",
          "2014-08",
          "2014-09",
          "2014-10",
          "2014-11",
          "2014-12"
         ],
         "xaxis": "x",
         "y": {
          "bdata": "AAAAAHdjA0G66KKLHvb/QAAAAADAW+ZAAAAAAPm4AEEAAAAAJA0EQUmSJEkCMwZBAAAAAHDU+EBddNFFQ44GQQAAAABEqglB27Zt2wYB9kAAAAAApp0OQQAAAABAERJBZmZmZh6i80AAAACAassSQQAAAABclQNBzczMzB5eEEE=",
          "dtype": "f8"
         },
         "yaxis": "y"
        },
        {
         "hovertemplate": "DiscountBand=Medium<br>Lună=%{x}<br>COGS Mediu ($)=%{y}<extra></extra>",
         "legendgroup": "Medium",
         "line": {
          "color": "#00cc96",
          "dash": "solid"
         },
         "marker": {
          "symbol": "circle"
         },
         "mode": "lines",
         "name": "Medium",
         "orientation": "v",
         "showlegend": true,
         "type": "scatter",
         "x": [
          "2013-09",
          "2013-10",
          "2013-11",
          "2013-12",
          "2014-01",
          "2014-02",
          "2014-03",
          "2014-04",
          "2014-05",
          "2014-06",
          "2014-07",
          "2014-08",
          "2014-09",
          "2014-10",
          "2014-11",
          "2014-12"
         ],
         "xaxis": "x",
         "y": {
          "bdata": "AAAAAMjw9UC66KKLHokAQQAAAABIdPxAAAAAAGk09UBddNFFw48FQauqqqrSiQlBAAAAAO+EA0FmZmZmBBsLQcVO7MReWPxAVVVVVZUD/0AAAAAADLsPQQAAAABXTvBAJUmSJEmTDUEAAAAABqj/QG7btm177ONAVVVVVXn1/0A=",
          "dtype": "f8"
         },
         "yaxis": "y"
        },
        {
         "hovertemplate": "DiscountBand=None<br>Lună=%{x}<br>COGS Mediu ($)=%{y}<extra></extra>",
         "legendgroup": "None",
         "line": {
          "color": "#ab63fa",
          "dash": "solid"
         },
         "marker": {
          "symbol": "circle"
         },
         "mode": "lines",
         "name": "None",
         "orientation": "v",
         "showlegend": true,
         "type": "scatter",
         "x": [
          "2013-09",
          "2013-10",
          "2013-11",
          "2013-12",
          "2014-01",
          "2014-02",
          "2014-03",
          "2014-04",
          "2014-06",
          "2014-07",
          "2014-08",
          "2014-09",
          "2014-10",
          "2014-12"
         ],
         "xaxis": "x",
         "y": {
          "bdata": "VVVVVeVkCEEAAAAAADfkQAAAAACQigtBAAAAAAAE1UBVVVVVVf/HQAAAAAC4oRFBAAAAAICmvkAAAAAAGDAFQbdt27YNSOhAAAAAAFDO+kAAAAAAdPgBQVVVVVXVUgdBAAAAAABTtkCrqqqqCv8AQQ==",
          "dtype": "f8"
         },
         "yaxis": "y"
        }
       ],
       "layout": {
        "legend": {
         "title": {
          "text": "DiscountBand"
         },
         "tracegroupgap": 0
        },
        "template": {
         "data": {
          "bar": [
           {
            "error_x": {
             "color": "#2a3f5f"
            },
            "error_y": {
             "color": "#2a3f5f"
            },
            "marker": {
             "line": {
              "color": "#E5ECF6",
              "width": 0.5
             },
             "pattern": {
              "fillmode": "overlay",
              "size": 10,
              "solidity": 0.2
             }
            },
            "type": "bar"
           }
          ],
          "barpolar": [
           {
            "marker": {
             "line": {
              "color": "#E5ECF6",
              "width": 0.5
             },
             "pattern": {
              "fillmode": "overlay",
              "size": 10,
              "solidity": 0.2
             }
            },
            "type": "barpolar"
           }
          ],
          "carpet": [
           {
            "aaxis": {
             "endlinecolor": "#2a3f5f",
             "gridcolor": "white",
             "linecolor": "white",
             "minorgridcolor": "white",
             "startlinecolor": "#2a3f5f"
            },
            "baxis": {
             "endlinecolor": "#2a3f5f",
             "gridcolor": "white",
             "linecolor": "white",
             "minorgridcolor": "white",
             "startlinecolor": "#2a3f5f"
            },
            "type": "carpet"
           }
          ],
          "choropleth": [
           {
            "colorbar": {
             "outlinewidth": 0,
             "ticks": ""
            },
            "type": "choropleth"
           }
          ],
          "contour": [
           {
            "colorbar": {
             "outlinewidth": 0,
             "ticks": ""
            },
            "colorscale": [
             [
              0,
              "#0d0887"
             ],
             [
              0.1111111111111111,
              "#46039f"
             ],
             [
              0.2222222222222222,
              "#7201a8"
             ],
             [
              0.3333333333333333,
              "#9c179e"
             ],
             [
              0.4444444444444444,
              "#bd3786"
             ],
             [
              0.5555555555555556,
              "#d8576b"
             ],
             [
              0.6666666666666666,
              "#ed7953"
             ],
             [
              0.7777777777777778,
              "#fb9f3a"
             ],
             [
              0.8888888888888888,
              "#fdca26"
             ],
             [
              1,
              "#f0f921"
             ]
            ],
            "type": "contour"
           }
          ],
          "contourcarpet": [
           {
            "colorbar": {
             "outlinewidth": 0,
             "ticks": ""
            },
            "type": "contourcarpet"
           }
          ],
          "heatmap": [
           {
            "colorbar": {
             "outlinewidth": 0,
             "ticks": ""
            },
            "colorscale": [
             [
              0,
              "#0d0887"
             ],
             [
              0.1111111111111111,
              "#46039f"
             ],
             [
              0.2222222222222222,
              "#7201a8"
             ],
             [
              0.3333333333333333,
              "#9c179e"
             ],
             [
              0.4444444444444444,
              "#bd3786"
             ],
             [
              0.5555555555555556,
              "#d8576b"
             ],
             [
              0.6666666666666666,
              "#ed7953"
             ],
             [
              0.7777777777777778,
              "#fb9f3a"
             ],
             [
              0.8888888888888888,
              "#fdca26"
             ],
             [
              1,
              "#f0f921"
             ]
            ],
            "type": "heatmap"
           }
          ],
          "histogram": [
           {
            "marker": {
             "pattern": {
              "fillmode": "overlay",
              "size": 10,
              "solidity": 0.2
             }
            },
            "type": "histogram"
           }
          ],
          "histogram2d": [
           {
            "colorbar": {
             "outlinewidth": 0,
             "ticks": ""
            },
            "colorscale": [
             [
              0,
              "#0d0887"
             ],
             [
              0.1111111111111111,
              "#46039f"
             ],
             [
              0.2222222222222222,
              "#7201a8"
             ],
             [
              0.3333333333333333,
              "#9c179e"
             ],
             [
              0.4444444444444444,
              "#bd3786"
             ],
             [
              0.5555555555555556,
              "#d8576b"
             ],
             [
              0.6666666666666666,
              "#ed7953"
             ],
             [
              0.7777777777777778,
              "#fb9f3a"
             ],
             [
              0.8888888888888888,
              "#fdca26"
             ],
             [
              1,
              "#f0f921"
             ]
            ],
            "type": "histogram2d"
           }
          ],
          "histogram2dcontour": [
           {
            "colorbar": {
             "outlinewidth": 0,
             "ticks": ""
            },
            "colorscale": [
             [
              0,
              "#0d0887"
             ],
             [
              0.1111111111111111,
              "#46039f"
             ],
             [
              0.2222222222222222,
              "#7201a8"
             ],
             [
              0.3333333333333333,
              "#9c179e"
             ],
             [
              0.4444444444444444,
              "#bd3786"
             ],
             [
              0.5555555555555556,
              "#d8576b"
             ],
             [
              0.6666666666666666,
              "#ed7953"
             ],
             [
              0.7777777777777778,
              "#fb9f3a"
             ],
             [
              0.8888888888888888,
              "#fdca26"
             ],
             [
              1,
              "#f0f921"
             ]
            ],
            "type": "histogram2dcontour"
           }
          ],
          "mesh3d": [
           {
            "colorbar": {
             "outlinewidth": 0,
             "ticks": ""
            },
            "type": "mesh3d"
           }
          ],
          "parcoords": [
           {
            "line": {
             "colorbar": {
              "outlinewidth": 0,
              "ticks": ""
             }
            },
            "type": "parcoords"
           }
          ],
          "pie": [
           {
            "automargin": true,
            "type": "pie"
           }
          ],
          "scatter": [
           {
            "fillpattern": {
             "fillmode": "overlay",
             "size": 10,
             "solidity": 0.2
            },
            "type": "scatter"
           }
          ],
          "scatter3d": [
           {
            "line": {
             "colorbar": {
              "outlinewidth": 0,
              "ticks": ""
             }
            },
            "marker": {
             "colorbar": {
              "outlinewidth": 0,
              "ticks": ""
             }
            },
            "type": "scatter3d"
           }
          ],
          "scattercarpet": [
           {
            "marker": {
             "colorbar": {
              "outlinewidth": 0,
              "ticks": ""
             }
            },
            "type": "scattercarpet"
           }
          ],
          "scattergeo": [
           {
            "marker": {
             "colorbar": {
              "outlinewidth": 0,
              "ticks": ""
             }
            },
            "type": "scattergeo"
           }
          ],
          "scattergl": [
           {
            "marker": {
             "colorbar": {
              "outlinewidth": 0,
              "ticks": ""
             }
            },
            "type": "scattergl"
           }
          ],
          "scattermap": [
           {
            "marker": {
             "colorbar": {
              "outlinewidth": 0,
              "ticks": ""
             }
            },
            "type": "scattermap"
           }
          ],
          "scattermapbox": [
           {
            "marker": {
             "colorbar": {
              "outlinewidth": 0,
              "ticks": ""
             }
            },
            "type": "scattermapbox"
           }
          ],
          "scatterpolar": [
           {
            "marker": {
             "colorbar": {
              "outlinewidth": 0,
              "ticks": ""
             }
            },
            "type": "scatterpolar"
           }
          ],
          "scatterpolargl": [
           {
            "marker": {
             "colorbar": {
              "outlinewidth": 0,
              "ticks": ""
             }
            },
            "type": "scatterpolargl"
           }
          ],
          "scatterternary": [
           {
            "marker": {
             "colorbar": {
              "outlinewidth": 0,
              "ticks": ""
             }
            },
            "type": "scatterternary"
           }
          ],
          "surface": [
           {
            "colorbar": {
             "outlinewidth": 0,
             "ticks": ""
            },
            "colorscale": [
             [
              0,
              "#0d0887"
             ],
             [
              0.1111111111111111,
              "#46039f"
             ],
             [
              0.2222222222222222,
              "#7201a8"
             ],
             [
              0.3333333333333333,
              "#9c179e"
             ],
             [
              0.4444444444444444,
              "#bd3786"
             ],
             [
              0.5555555555555556,
              "#d8576b"
             ],
             [
              0.6666666666666666,
              "#ed7953"
             ],
             [
              0.7777777777777778,
              "#fb9f3a"
             ],
             [
              0.8888888888888888,
              "#fdca26"
             ],
             [
              1,
              "#f0f921"
             ]
            ],
            "type": "surface"
           }
          ],
          "table": [
           {
            "cells": {
             "fill": {
              "color": "#EBF0F8"
             },
             "line": {
              "color": "white"
             }
            },
            "header": {
             "fill": {
              "color": "#C8D4E3"
             },
             "line": {
              "color": "white"
             }
            },
            "type": "table"
           }
          ]
         },
         "layout": {
          "annotationdefaults": {
           "arrowcolor": "#2a3f5f",
           "arrowhead": 0,
           "arrowwidth": 1
          },
          "autotypenumbers": "strict",
          "coloraxis": {
           "colorbar": {
            "outlinewidth": 0,
            "ticks": ""
           }
          },
          "colorscale": {
           "diverging": [
            [
             0,
             "#8e0152"
            ],
            [
             0.1,
             "#c51b7d"
            ],
            [
             0.2,
             "#de77ae"
            ],
            [
             0.3,
             "#f1b6da"
            ],
            [
             0.4,
             "#fde0ef"
            ],
            [
             0.5,
             "#f7f7f7"
            ],
            [
             0.6,
             "#e6f5d0"
            ],
            [
             0.7,
             "#b8e186"
            ],
            [
             0.8,
             "#7fbc41"
            ],
            [
             0.9,
             "#4d9221"
            ],
            [
             1,
             "#276419"
            ]
           ],
           "sequential": [
            [
             0,
             "#0d0887"
            ],
            [
             0.1111111111111111,
             "#46039f"
            ],
            [
             0.2222222222222222,
             "#7201a8"
            ],
            [
             0.3333333333333333,
             "#9c179e"
            ],
            [
             0.4444444444444444,
             "#bd3786"
            ],
            [
             0.5555555555555556,
             "#d8576b"
            ],
            [
             0.6666666666666666,
             "#ed7953"
            ],
            [
             0.7777777777777778,
             "#fb9f3a"
            ],
            [
             0.8888888888888888,
             "#fdca26"
            ],
            [
             1,
             "#f0f921"
            ]
           ],
           "sequentialminus": [
            [
             0,
             "#0d0887"
            ],
            [
             0.1111111111111111,
             "#46039f"
            ],
            [
             0.2222222222222222,
             "#7201a8"
            ],
            [
             0.3333333333333333,
             "#9c179e"
            ],
            [
             0.4444444444444444,
             "#bd3786"
            ],
            [
             0.5555555555555556,
             "#d8576b"
            ],
            [
             0.6666666666666666,
             "#ed7953"
            ],
            [
             0.7777777777777778,
             "#fb9f3a"
            ],
            [
             0.8888888888888888,
             "#fdca26"
            ],
            [
             1,
             "#f0f921"
            ]
           ]
          },
          "colorway": [
           "#636efa",
           "#EF553B",
           "#00cc96",
           "#ab63fa",
           "#FFA15A",
           "#19d3f3",
           "#FF6692",
           "#B6E880",
           "#FF97FF",
           "#FECB52"
          ],
          "font": {
           "color": "#2a3f5f"
          },
          "geo": {
           "bgcolor": "white",
           "lakecolor": "white",
           "landcolor": "#E5ECF6",
           "showlakes": true,
           "showland": true,
           "subunitcolor": "white"
          },
          "hoverlabel": {
           "align": "left"
          },
          "hovermode": "closest",
          "mapbox": {
           "style": "light"
          },
          "paper_bgcolor": "white",
          "plot_bgcolor": "#E5ECF6",
          "polar": {
           "angularaxis": {
            "gridcolor": "white",
            "linecolor": "white",
            "ticks": ""
           },
           "bgcolor": "#E5ECF6",
           "radialaxis": {
            "gridcolor": "white",
            "linecolor": "white",
            "ticks": ""
           }
          },
          "scene": {
           "xaxis": {
            "backgroundcolor": "#E5ECF6",
            "gridcolor": "white",
            "gridwidth": 2,
            "linecolor": "white",
            "showbackground": true,
            "ticks": "",
            "zerolinecolor": "white"
           },
           "yaxis": {
            "backgroundcolor": "#E5ECF6",
            "gridcolor": "white",
            "gridwidth": 2,
            "linecolor": "white",
            "showbackground": true,
            "ticks": "",
            "zerolinecolor": "white"
           },
           "zaxis": {
            "backgroundcolor": "#E5ECF6",
            "gridcolor": "white",
            "gridwidth": 2,
            "linecolor": "white",
            "showbackground": true,
            "ticks": "",
            "zerolinecolor": "white"
           }
          },
          "shapedefaults": {
           "line": {
            "color": "#2a3f5f"
           }
          },
          "ternary": {
           "aaxis": {
            "gridcolor": "white",
            "linecolor": "white",
            "ticks": ""
           },
           "baxis": {
            "gridcolor": "white",
            "linecolor": "white",
            "ticks": ""
           },
           "bgcolor": "#E5ECF6",
           "caxis": {
            "gridcolor": "white",
            "linecolor": "white",
            "ticks": ""
           }
          },
          "title": {
           "x": 0.05
          },
          "xaxis": {
           "automargin": true,
           "gridcolor": "white",
           "linecolor": "white",
           "ticks": "",
           "title": {
            "standoff": 15
           },
           "zerolinecolor": "white",
           "zerolinewidth": 2
          },
          "yaxis": {
           "automargin": true,
           "gridcolor": "white",
           "linecolor": "white",
           "ticks": "",
           "title": {
            "standoff": 15
           },
           "zerolinecolor": "white",
           "zerolinewidth": 2
          }
         }
        },
        "title": {
         "text": "Monthly evolution of COGS (mean) on Discount Band"
        },
        "xaxis": {
         "anchor": "y",
         "domain": [
          0,
          1
         ],
         "title": {
          "text": "Lună"
         }
        },
        "yaxis": {
         "anchor": "x",
         "domain": [
          0,
          1
         ],
         "title": {
          "text": "COGS Mediu ($)"
         }
        }
       }
      },
      "image/png": "[encoded data removed]"
     },
     "metadata": {},
     "output_type": "display_data"
    }
   ],
   "source": [
    "# Displayiny monthly profit, sales and COGS evolution by Discount Band\n",
    "\n",
    "fig_profit = px.line(\n",
    "    df_avg_monthly,\n",
    "    x='YearMonth',\n",
    "    y='Avg_Profit',\n",
    "    color='DiscountBand',\n",
    "    title='Monthly Profit Evolution (mean) on Discount Band',\n",
    "    labels={'YearMonth': 'Lună', 'Avg_Profit': 'Profit Mediu ($)'}\n",
    ")\n",
    "fig_profit.show()\n",
    "\n",
    "fig_sales = px.line(\n",
    "    df_avg_monthly,\n",
    "    x='YearMonth',\n",
    "    y='Avg_Sales',\n",
    "    color='DiscountBand',\n",
    "    title='Monthly Sales Evolution (mean) on Discount Band',\n",
    "    labels={'YearMonth': 'Lună', 'Avg_Sales': 'Vânzări Medii ($)'}\n",
    ")\n",
    "fig_sales.show()\n",
    "\n",
    "fig_cogs = px.line(\n",
    "    df_avg_monthly,\n",
    "    x='YearMonth',\n",
    "    y='Avg_COGS',\n",
    "    color='DiscountBand',\n",
    "    title='Monthly evolution of COGS (mean) on Discount Band',\n",
    "    labels={'YearMonth': 'Lună', 'Avg_COGS': 'COGS Mediu ($)'}\n",
    ")\n",
    "fig_cogs.show()\n",
    "\n"
   ]
  },
  {
   "cell_type": "code",
   "execution_count": 22,
   "id": "99e76af3-e7b7-47ec-a4b9-61bbfb26dd15",
   "metadata": {},
   "outputs": [
    {
     "data": {
      "application/vnd.plotly.v1+json": {
       "config": {
        "plotlyServerURL": "https://plot.ly"
       },
       "data": [
        {
         "hovertemplate": "Product=%{x}<br>Average Profit ($)=%{y}<extra></extra>",
         "legendgroup": " Amarilla ",
         "marker": {
          "color": "#636efa",
          "pattern": {
           "shape": ""
          }
         },
         "name": " Amarilla ",
         "orientation": "v",
         "showlegend": true,
         "textposition": "auto",
         "type": "bar",
         "x": [
          " Amarilla "
         ],
         "xaxis": "x",
         "y": {
          "bdata": "AAAAAGA2DkE=",
          "dtype": "f8"
         },
         "yaxis": "y"
        },
        {
         "hovertemplate": "Product=%{x}<br>Average Profit ($)=%{y}<extra></extra>",
         "legendgroup": " Carretera ",
         "marker": {
          "color": "#EF553B",
          "pattern": {
           "shape": ""
          }
         },
         "name": " Carretera ",
         "orientation": "v",
         "showlegend": true,
         "textposition": "auto",
         "type": "bar",
         "x": [
          " Carretera "
         ],
         "xaxis": "x",
         "y": {
          "bdata": "AAAAAMC0zEA=",
          "dtype": "f8"
         },
         "yaxis": "y"
        },
        {
         "hovertemplate": "Product=%{x}<br>Average Profit ($)=%{y}<extra></extra>",
         "legendgroup": " Paseo ",
         "marker": {
          "color": "#00cc96",
          "pattern": {
           "shape": ""
          }
         },
         "name": " Paseo ",
         "orientation": "v",
         "showlegend": true,
         "textposition": "auto",
         "type": "bar",
         "x": [
          " Paseo "
         ],
         "xaxis": "x",
         "y": {
          "bdata": "MzMzMzPG4UA=",
          "dtype": "f8"
         },
         "yaxis": "y"
        },
        {
         "hovertemplate": "Product=%{x}<br>Average Profit ($)=%{y}<extra></extra>",
         "legendgroup": " VTT ",
         "marker": {
          "color": "#ab63fa",
          "pattern": {
           "shape": ""
          }
         },
         "name": " VTT ",
         "orientation": "v",
         "showlegend": true,
         "textposition": "auto",
         "type": "bar",
         "x": [
          " VTT "
         ],
         "xaxis": "x",
         "y": {
          "bdata": "AAAAACBt+EA=",
          "dtype": "f8"
         },
         "yaxis": "y"
        },
        {
         "hovertemplate": "Product=%{x}<br>Average Profit ($)=%{y}<extra></extra>",
         "legendgroup": " Velo ",
         "marker": {
          "color": "#FFA15A",
          "pattern": {
           "shape": ""
          }
         },
         "name": " Velo ",
         "orientation": "v",
         "showlegend": true,
         "textposition": "auto",
         "type": "bar",
         "x": [
          " Velo "
         ],
         "xaxis": "x",
         "y": {
          "bdata": "AAAAAABzt0A=",
          "dtype": "f8"
         },
         "yaxis": "y"
        }
       ],
       "layout": {
        "barmode": "relative",
        "legend": {
         "title": {
          "text": "Product"
         },
         "tracegroupgap": 0
        },
        "template": {
         "data": {
          "bar": [
           {
            "error_x": {
             "color": "#2a3f5f"
            },
            "error_y": {
             "color": "#2a3f5f"
            },
            "marker": {
             "line": {
              "color": "#E5ECF6",
              "width": 0.5
             },
             "pattern": {
              "fillmode": "overlay",
              "size": 10,
              "solidity": 0.2
             }
            },
            "type": "bar"
           }
          ],
          "barpolar": [
           {
            "marker": {
             "line": {
              "color": "#E5ECF6",
              "width": 0.5
             },
             "pattern": {
              "fillmode": "overlay",
              "size": 10,
              "solidity": 0.2
             }
            },
            "type": "barpolar"
           }
          ],
          "carpet": [
           {
            "aaxis": {
             "endlinecolor": "#2a3f5f",
             "gridcolor": "white",
             "linecolor": "white",
             "minorgridcolor": "white",
             "startlinecolor": "#2a3f5f"
            },
            "baxis": {
             "endlinecolor": "#2a3f5f",
             "gridcolor": "white",
             "linecolor": "white",
             "minorgridcolor": "white",
             "startlinecolor": "#2a3f5f"
            },
            "type": "carpet"
           }
          ],
          "choropleth": [
           {
            "colorbar": {
             "outlinewidth": 0,
             "ticks": ""
            },
            "type": "choropleth"
           }
          ],
          "contour": [
           {
            "colorbar": {
             "outlinewidth": 0,
             "ticks": ""
            },
            "colorscale": [
             [
              0,
              "#0d0887"
             ],
             [
              0.1111111111111111,
              "#46039f"
             ],
             [
              0.2222222222222222,
              "#7201a8"
             ],
             [
              0.3333333333333333,
              "#9c179e"
             ],
             [
              0.4444444444444444,
              "#bd3786"
             ],
             [
              0.5555555555555556,
              "#d8576b"
             ],
             [
              0.6666666666666666,
              "#ed7953"
             ],
             [
              0.7777777777777778,
              "#fb9f3a"
             ],
             [
              0.8888888888888888,
              "#fdca26"
             ],
             [
              1,
              "#f0f921"
             ]
            ],
            "type": "contour"
           }
          ],
          "contourcarpet": [
           {
            "colorbar": {
             "outlinewidth": 0,
             "ticks": ""
            },
            "type": "contourcarpet"
           }
          ],
          "heatmap": [
           {
            "colorbar": {
             "outlinewidth": 0,
             "ticks": ""
            },
            "colorscale": [
             [
              0,
              "#0d0887"
             ],
             [
              0.1111111111111111,
              "#46039f"
             ],
             [
              0.2222222222222222,
              "#7201a8"
             ],
             [
              0.3333333333333333,
              "#9c179e"
             ],
             [
              0.4444444444444444,
              "#bd3786"
             ],
             [
              0.5555555555555556,
              "#d8576b"
             ],
             [
              0.6666666666666666,
              "#ed7953"
             ],
             [
              0.7777777777777778,
              "#fb9f3a"
             ],
             [
              0.8888888888888888,
              "#fdca26"
             ],
             [
              1,
              "#f0f921"
             ]
            ],
            "type": "heatmap"
           }
          ],
          "histogram": [
           {
            "marker": {
             "pattern": {
              "fillmode": "overlay",
              "size": 10,
              "solidity": 0.2
             }
            },
            "type": "histogram"
           }
          ],
          "histogram2d": [
           {
            "colorbar": {
             "outlinewidth": 0,
             "ticks": ""
            },
            "colorscale": [
             [
              0,
              "#0d0887"
             ],
             [
              0.1111111111111111,
              "#46039f"
             ],
             [
              0.2222222222222222,
              "#7201a8"
             ],
             [
              0.3333333333333333,
              "#9c179e"
             ],
             [
              0.4444444444444444,
              "#bd3786"
             ],
             [
              0.5555555555555556,
              "#d8576b"
             ],
             [
              0.6666666666666666,
              "#ed7953"
             ],
             [
              0.7777777777777778,
              "#fb9f3a"
             ],
             [
              0.8888888888888888,
              "#fdca26"
             ],
             [
              1,
              "#f0f921"
             ]
            ],
            "type": "histogram2d"
           }
          ],
          "histogram2dcontour": [
           {
            "colorbar": {
             "outlinewidth": 0,
             "ticks": ""
            },
            "colorscale": [
             [
              0,
              "#0d0887"
             ],
             [
              0.1111111111111111,
              "#46039f"
             ],
             [
              0.2222222222222222,
              "#7201a8"
             ],
             [
              0.3333333333333333,
              "#9c179e"
             ],
             [
              0.4444444444444444,
              "#bd3786"
             ],
             [
              0.5555555555555556,
              "#d8576b"
             ],
             [
              0.6666666666666666,
              "#ed7953"
             ],
             [
              0.7777777777777778,
              "#fb9f3a"
             ],
             [
              0.8888888888888888,
              "#fdca26"
             ],
             [
              1,
              "#f0f921"
             ]
            ],
            "type": "histogram2dcontour"
           }
          ],
          "mesh3d": [
           {
            "colorbar": {
             "outlinewidth": 0,
             "ticks": ""
            },
            "type": "mesh3d"
           }
          ],
          "parcoords": [
           {
            "line": {
             "colorbar": {
              "outlinewidth": 0,
              "ticks": ""
             }
            },
            "type": "parcoords"
           }
          ],
          "pie": [
           {
            "automargin": true,
            "type": "pie"
           }
          ],
          "scatter": [
           {
            "fillpattern": {
             "fillmode": "overlay",
             "size": 10,
             "solidity": 0.2
            },
            "type": "scatter"
           }
          ],
          "scatter3d": [
           {
            "line": {
             "colorbar": {
              "outlinewidth": 0,
              "ticks": ""
             }
            },
            "marker": {
             "colorbar": {
              "outlinewidth": 0,
              "ticks": ""
             }
            },
            "type": "scatter3d"
           }
          ],
          "scattercarpet": [
           {
            "marker": {
             "colorbar": {
              "outlinewidth": 0,
              "ticks": ""
             }
            },
            "type": "scattercarpet"
           }
          ],
          "scattergeo": [
           {
            "marker": {
             "colorbar": {
              "outlinewidth": 0,
              "ticks": ""
             }
            },
            "type": "scattergeo"
           }
          ],
          "scattergl": [
           {
            "marker": {
             "colorbar": {
              "outlinewidth": 0,
              "ticks": ""
             }
            },
            "type": "scattergl"
           }
          ],
          "scattermap": [
           {
            "marker": {
             "colorbar": {
              "outlinewidth": 0,
              "ticks": ""
             }
            },
            "type": "scattermap"
           }
          ],
          "scattermapbox": [
           {
            "marker": {
             "colorbar": {
              "outlinewidth": 0,
              "ticks": ""
             }
            },
            "type": "scattermapbox"
           }
          ],
          "scatterpolar": [
           {
            "marker": {
             "colorbar": {
              "outlinewidth": 0,
              "ticks": ""
             }
            },
            "type": "scatterpolar"
           }
          ],
          "scatterpolargl": [
           {
            "marker": {
             "colorbar": {
              "outlinewidth": 0,
              "ticks": ""
             }
            },
            "type": "scatterpolargl"
           }
          ],
          "scatterternary": [
           {
            "marker": {
             "colorbar": {
              "outlinewidth": 0,
              "ticks": ""
             }
            },
            "type": "scatterternary"
           }
          ],
          "surface": [
           {
            "colorbar": {
             "outlinewidth": 0,
             "ticks": ""
            },
            "colorscale": [
             [
              0,
              "#0d0887"
             ],
             [
              0.1111111111111111,
              "#46039f"
             ],
             [
              0.2222222222222222,
              "#7201a8"
             ],
             [
              0.3333333333333333,
              "#9c179e"
             ],
             [
              0.4444444444444444,
              "#bd3786"
             ],
             [
              0.5555555555555556,
              "#d8576b"
             ],
             [
              0.6666666666666666,
              "#ed7953"
             ],
             [
              0.7777777777777778,
              "#fb9f3a"
             ],
             [
              0.8888888888888888,
              "#fdca26"
             ],
             [
              1,
              "#f0f921"
             ]
            ],
            "type": "surface"
           }
          ],
          "table": [
           {
            "cells": {
             "fill": {
              "color": "#EBF0F8"
             },
             "line": {
              "color": "white"
             }
            },
            "header": {
             "fill": {
              "color": "#C8D4E3"
             },
             "line": {
              "color": "white"
             }
            },
            "type": "table"
           }
          ]
         },
         "layout": {
          "annotationdefaults": {
           "arrowcolor": "#2a3f5f",
           "arrowhead": 0,
           "arrowwidth": 1
          },
          "autotypenumbers": "strict",
          "coloraxis": {
           "colorbar": {
            "outlinewidth": 0,
            "ticks": ""
           }
          },
          "colorscale": {
           "diverging": [
            [
             0,
             "#8e0152"
            ],
            [
             0.1,
             "#c51b7d"
            ],
            [
             0.2,
             "#de77ae"
            ],
            [
             0.3,
             "#f1b6da"
            ],
            [
             0.4,
             "#fde0ef"
            ],
            [
             0.5,
             "#f7f7f7"
            ],
            [
             0.6,
             "#e6f5d0"
            ],
            [
             0.7,
             "#b8e186"
            ],
            [
             0.8,
             "#7fbc41"
            ],
            [
             0.9,
             "#4d9221"
            ],
            [
             1,
             "#276419"
            ]
           ],
           "sequential": [
            [
             0,
             "#0d0887"
            ],
            [
             0.1111111111111111,
             "#46039f"
            ],
            [
             0.2222222222222222,
             "#7201a8"
            ],
            [
             0.3333333333333333,
             "#9c179e"
            ],
            [
             0.4444444444444444,
             "#bd3786"
            ],
            [
             0.5555555555555556,
             "#d8576b"
            ],
            [
             0.6666666666666666,
             "#ed7953"
            ],
            [
             0.7777777777777778,
             "#fb9f3a"
            ],
            [
             0.8888888888888888,
             "#fdca26"
            ],
            [
             1,
             "#f0f921"
            ]
           ],
           "sequentialminus": [
            [
             0,
             "#0d0887"
            ],
            [
             0.1111111111111111,
             "#46039f"
            ],
            [
             0.2222222222222222,
             "#7201a8"
            ],
            [
             0.3333333333333333,
             "#9c179e"
            ],
            [
             0.4444444444444444,
             "#bd3786"
            ],
            [
             0.5555555555555556,
             "#d8576b"
            ],
            [
             0.6666666666666666,
             "#ed7953"
            ],
            [
             0.7777777777777778,
             "#fb9f3a"
            ],
            [
             0.8888888888888888,
             "#fdca26"
            ],
            [
             1,
             "#f0f921"
            ]
           ]
          },
          "colorway": [
           "#636efa",
           "#EF553B",
           "#00cc96",
           "#ab63fa",
           "#FFA15A",
           "#19d3f3",
           "#FF6692",
           "#B6E880",
           "#FF97FF",
           "#FECB52"
          ],
          "font": {
           "color": "#2a3f5f"
          },
          "geo": {
           "bgcolor": "white",
           "lakecolor": "white",
           "landcolor": "#E5ECF6",
           "showlakes": true,
           "showland": true,
           "subunitcolor": "white"
          },
          "hoverlabel": {
           "align": "left"
          },
          "hovermode": "closest",
          "mapbox": {
           "style": "light"
          },
          "paper_bgcolor": "white",
          "plot_bgcolor": "#E5ECF6",
          "polar": {
           "angularaxis": {
            "gridcolor": "white",
            "linecolor": "white",
            "ticks": ""
           },
           "bgcolor": "#E5ECF6",
           "radialaxis": {
            "gridcolor": "white",
            "linecolor": "white",
            "ticks": ""
           }
          },
          "scene": {
           "xaxis": {
            "backgroundcolor": "#E5ECF6",
            "gridcolor": "white",
            "gridwidth": 2,
            "linecolor": "white",
            "showbackground": true,
            "ticks": "",
            "zerolinecolor": "white"
           },
           "yaxis": {
            "backgroundcolor": "#E5ECF6",
            "gridcolor": "white",
            "gridwidth": 2,
            "linecolor": "white",
            "showbackground": true,
            "ticks": "",
            "zerolinecolor": "white"
           },
           "zaxis": {
            "backgroundcolor": "#E5ECF6",
            "gridcolor": "white",
            "gridwidth": 2,
            "linecolor": "white",
            "showbackground": true,
            "ticks": "",
            "zerolinecolor": "white"
           }
          },
          "shapedefaults": {
           "line": {
            "color": "#2a3f5f"
           }
          },
          "ternary": {
           "aaxis": {
            "gridcolor": "white",
            "linecolor": "white",
            "ticks": ""
           },
           "baxis": {
            "gridcolor": "white",
            "linecolor": "white",
            "ticks": ""
           },
           "bgcolor": "#E5ECF6",
           "caxis": {
            "gridcolor": "white",
            "linecolor": "white",
            "ticks": ""
           }
          },
          "title": {
           "x": 0.05
          },
          "xaxis": {
           "automargin": true,
           "gridcolor": "white",
           "linecolor": "white",
           "ticks": "",
           "title": {
            "standoff": 15
           },
           "zerolinecolor": "white",
           "zerolinewidth": 2
          },
          "yaxis": {
           "automargin": true,
           "gridcolor": "white",
           "linecolor": "white",
           "ticks": "",
           "title": {
            "standoff": 15
           },
           "zerolinecolor": "white",
           "zerolinewidth": 2
          }
         }
        },
        "title": {
         "text": "Average Profit per Product (Nov 2013 – Feb 2014)\nDiscount Band: None"
        },
        "xaxis": {
         "anchor": "y",
         "categoryarray": [
          " Amarilla ",
          " Carretera ",
          " Paseo ",
          " VTT ",
          " Velo "
         ],
         "categoryorder": "array",
         "domain": [
          0,
          1
         ],
         "title": {
          "text": "Product"
         }
        },
        "yaxis": {
         "anchor": "x",
         "domain": [
          0,
          1
         ],
         "title": {
          "text": "Average Profit ($)"
         }
        }
       }
      },
      "image/png": "[encoded data removed]"
     },
     "metadata": {},
     "output_type": "display_data"
    },
    {
     "data": {
      "application/vnd.plotly.v1+json": {
       "config": {
        "plotlyServerURL": "https://plot.ly"
       },
       "data": [
        {
         "hovertemplate": "Product=%{x}<br>Average Profit ($)=%{y}<extra></extra>",
         "legendgroup": " Amarilla ",
         "marker": {
          "color": "#636efa",
          "pattern": {
           "shape": ""
          }
         },
         "name": " Amarilla ",
         "orientation": "v",
         "showlegend": true,
         "textposition": "auto",
         "type": "bar",
         "x": [
          " Amarilla "
         ],
         "xaxis": "x",
         "y": {
          "bdata": "AAAAACCxAUE=",
          "dtype": "f8"
         },
         "yaxis": "y"
        },
        {
         "hovertemplate": "Product=%{x}<br>Average Profit ($)=%{y}<extra></extra>",
         "legendgroup": " Carretera ",
         "marker": {
          "color": "#EF553B",
          "pattern": {
           "shape": ""
          }
         },
         "name": " Carretera ",
         "orientation": "v",
         "showlegend": true,
         "textposition": "auto",
         "type": "bar",
         "x": [
          " Carretera "
         ],
         "xaxis": "x",
         "y": {
          "bdata": "trwxghGk4kA=",
          "dtype": "f8"
         },
         "yaxis": "y"
        },
        {
         "hovertemplate": "Product=%{x}<br>Average Profit ($)=%{y}<extra></extra>",
         "legendgroup": " Montana ",
         "marker": {
          "color": "#00cc96",
          "pattern": {
           "shape": ""
          }
         },
         "name": " Montana ",
         "orientation": "v",
         "showlegend": true,
         "textposition": "auto",
         "type": "bar",
         "x": [
          " Montana "
         ],
         "xaxis": "x",
         "y": {
          "bdata": "WS1vjCBs2kA=",
          "dtype": "f8"
         },
         "yaxis": "y"
        },
        {
         "hovertemplate": "Product=%{x}<br>Average Profit ($)=%{y}<extra></extra>",
         "legendgroup": " Paseo ",
         "marker": {
          "color": "#ab63fa",
          "pattern": {
           "shape": ""
          }
         },
         "name": " Paseo ",
         "orientation": "v",
         "showlegend": true,
         "textposition": "auto",
         "type": "bar",
         "x": [
          " Paseo "
         ],
         "xaxis": "x",
         "y": {
          "bdata": "LrKd7/t04EA=",
          "dtype": "f8"
         },
         "yaxis": "y"
        },
        {
         "hovertemplate": "Product=%{x}<br>Average Profit ($)=%{y}<extra></extra>",
         "legendgroup": " VTT ",
         "marker": {
          "color": "#FFA15A",
          "pattern": {
           "shape": ""
          }
         },
         "name": " VTT ",
         "orientation": "v",
         "showlegend": true,
         "textposition": "auto",
         "type": "bar",
         "x": [
          " VTT "
         ],
         "xaxis": "x",
         "y": {
          "bdata": "AAAAAHyw/0A=",
          "dtype": "f8"
         },
         "yaxis": "y"
        },
        {
         "hovertemplate": "Product=%{x}<br>Average Profit ($)=%{y}<extra></extra>",
         "legendgroup": " Velo ",
         "marker": {
          "color": "#19d3f3",
          "pattern": {
           "shape": ""
          }
         },
         "name": " Velo ",
         "orientation": "v",
         "showlegend": true,
         "textposition": "auto",
         "type": "bar",
         "x": [
          " Velo "
         ],
         "xaxis": "x",
         "y": {
          "bdata": "61G4Hp3D9EA=",
          "dtype": "f8"
         },
         "yaxis": "y"
        }
       ],
       "layout": {
        "barmode": "relative",
        "legend": {
         "title": {
          "text": "Product"
         },
         "tracegroupgap": 0
        },
        "template": {
         "data": {
          "bar": [
           {
            "error_x": {
             "color": "#2a3f5f"
            },
            "error_y": {
             "color": "#2a3f5f"
            },
            "marker": {
             "line": {
              "color": "#E5ECF6",
              "width": 0.5
             },
             "pattern": {
              "fillmode": "overlay",
              "size": 10,
              "solidity": 0.2
             }
            },
            "type": "bar"
           }
          ],
          "barpolar": [
           {
            "marker": {
             "line": {
              "color": "#E5ECF6",
              "width": 0.5
             },
             "pattern": {
              "fillmode": "overlay",
              "size": 10,
              "solidity": 0.2
             }
            },
            "type": "barpolar"
           }
          ],
          "carpet": [
           {
            "aaxis": {
             "endlinecolor": "#2a3f5f",
             "gridcolor": "white",
             "linecolor": "white",
             "minorgridcolor": "white",
             "startlinecolor": "#2a3f5f"
            },
            "baxis": {
             "endlinecolor": "#2a3f5f",
             "gridcolor": "white",
             "linecolor": "white",
             "minorgridcolor": "white",
             "startlinecolor": "#2a3f5f"
            },
            "type": "carpet"
           }
          ],
          "choropleth": [
           {
            "colorbar": {
             "outlinewidth": 0,
             "ticks": ""
            },
            "type": "choropleth"
           }
          ],
          "contour": [
           {
            "colorbar": {
             "outlinewidth": 0,
             "ticks": ""
            },
            "colorscale": [
             [
              0,
              "#0d0887"
             ],
             [
              0.1111111111111111,
              "#46039f"
             ],
             [
              0.2222222222222222,
              "#7201a8"
             ],
             [
              0.3333333333333333,
              "#9c179e"
             ],
             [
              0.4444444444444444,
              "#bd3786"
             ],
             [
              0.5555555555555556,
              "#d8576b"
             ],
             [
              0.6666666666666666,
              "#ed7953"
             ],
             [
              0.7777777777777778,
              "#fb9f3a"
             ],
             [
              0.8888888888888888,
              "#fdca26"
             ],
             [
              1,
              "#f0f921"
             ]
            ],
            "type": "contour"
           }
          ],
          "contourcarpet": [
           {
            "colorbar": {
             "outlinewidth": 0,
             "ticks": ""
            },
            "type": "contourcarpet"
           }
          ],
          "heatmap": [
           {
            "colorbar": {
             "outlinewidth": 0,
             "ticks": ""
            },
            "colorscale": [
             [
              0,
              "#0d0887"
             ],
             [
              0.1111111111111111,
              "#46039f"
             ],
             [
              0.2222222222222222,
              "#7201a8"
             ],
             [
              0.3333333333333333,
              "#9c179e"
             ],
             [
              0.4444444444444444,
              "#bd3786"
             ],
             [
              0.5555555555555556,
              "#d8576b"
             ],
             [
              0.6666666666666666,
              "#ed7953"
             ],
             [
              0.7777777777777778,
              "#fb9f3a"
             ],
             [
              0.8888888888888888,
              "#fdca26"
             ],
             [
              1,
              "#f0f921"
             ]
            ],
            "type": "heatmap"
           }
          ],
          "histogram": [
           {
            "marker": {
             "pattern": {
              "fillmode": "overlay",
              "size": 10,
              "solidity": 0.2
             }
            },
            "type": "histogram"
           }
          ],
          "histogram2d": [
           {
            "colorbar": {
             "outlinewidth": 0,
             "ticks": ""
            },
            "colorscale": [
             [
              0,
              "#0d0887"
             ],
             [
              0.1111111111111111,
              "#46039f"
             ],
             [
              0.2222222222222222,
              "#7201a8"
             ],
             [
              0.3333333333333333,
              "#9c179e"
             ],
             [
              0.4444444444444444,
              "#bd3786"
             ],
             [
              0.5555555555555556,
              "#d8576b"
             ],
             [
              0.6666666666666666,
              "#ed7953"
             ],
             [
              0.7777777777777778,
              "#fb9f3a"
             ],
             [
              0.8888888888888888,
              "#fdca26"
             ],
             [
              1,
              "#f0f921"
             ]
            ],
            "type": "histogram2d"
           }
          ],
          "histogram2dcontour": [
           {
            "colorbar": {
             "outlinewidth": 0,
             "ticks": ""
            },
            "colorscale": [
             [
              0,
              "#0d0887"
             ],
             [
              0.1111111111111111,
              "#46039f"
             ],
             [
              0.2222222222222222,
              "#7201a8"
             ],
             [
              0.3333333333333333,
              "#9c179e"
             ],
             [
              0.4444444444444444,
              "#bd3786"
             ],
             [
              0.5555555555555556,
              "#d8576b"
             ],
             [
              0.6666666666666666,
              "#ed7953"
             ],
             [
              0.7777777777777778,
              "#fb9f3a"
             ],
             [
              0.8888888888888888,
              "#fdca26"
             ],
             [
              1,
              "#f0f921"
             ]
            ],
            "type": "histogram2dcontour"
           }
          ],
          "mesh3d": [
           {
            "colorbar": {
             "outlinewidth": 0,
             "ticks": ""
            },
            "type": "mesh3d"
           }
          ],
          "parcoords": [
           {
            "line": {
             "colorbar": {
              "outlinewidth": 0,
              "ticks": ""
             }
            },
            "type": "parcoords"
           }
          ],
          "pie": [
           {
            "automargin": true,
            "type": "pie"
           }
          ],
          "scatter": [
           {
            "fillpattern": {
             "fillmode": "overlay",
             "size": 10,
             "solidity": 0.2
            },
            "type": "scatter"
           }
          ],
          "scatter3d": [
           {
            "line": {
             "colorbar": {
              "outlinewidth": 0,
              "ticks": ""
             }
            },
            "marker": {
             "colorbar": {
              "outlinewidth": 0,
              "ticks": ""
             }
            },
            "type": "scatter3d"
           }
          ],
          "scattercarpet": [
           {
            "marker": {
             "colorbar": {
              "outlinewidth": 0,
              "ticks": ""
             }
            },
            "type": "scattercarpet"
           }
          ],
          "scattergeo": [
           {
            "marker": {
             "colorbar": {
              "outlinewidth": 0,
              "ticks": ""
             }
            },
            "type": "scattergeo"
           }
          ],
          "scattergl": [
           {
            "marker": {
             "colorbar": {
              "outlinewidth": 0,
              "ticks": ""
             }
            },
            "type": "scattergl"
           }
          ],
          "scattermap": [
           {
            "marker": {
             "colorbar": {
              "outlinewidth": 0,
              "ticks": ""
             }
            },
            "type": "scattermap"
           }
          ],
          "scattermapbox": [
           {
            "marker": {
             "colorbar": {
              "outlinewidth": 0,
              "ticks": ""
             }
            },
            "type": "scattermapbox"
           }
          ],
          "scatterpolar": [
           {
            "marker": {
             "colorbar": {
              "outlinewidth": 0,
              "ticks": ""
             }
            },
            "type": "scatterpolar"
           }
          ],
          "scatterpolargl": [
           {
            "marker": {
             "colorbar": {
              "outlinewidth": 0,
              "ticks": ""
             }
            },
            "type": "scatterpolargl"
           }
          ],
          "scatterternary": [
           {
            "marker": {
             "colorbar": {
              "outlinewidth": 0,
              "ticks": ""
             }
            },
            "type": "scatterternary"
           }
          ],
          "surface": [
           {
            "colorbar": {
             "outlinewidth": 0,
             "ticks": ""
            },
            "colorscale": [
             [
              0,
              "#0d0887"
             ],
             [
              0.1111111111111111,
              "#46039f"
             ],
             [
              0.2222222222222222,
              "#7201a8"
             ],
             [
              0.3333333333333333,
              "#9c179e"
             ],
             [
              0.4444444444444444,
              "#bd3786"
             ],
             [
              0.5555555555555556,
              "#d8576b"
             ],
             [
              0.6666666666666666,
              "#ed7953"
             ],
             [
              0.7777777777777778,
              "#fb9f3a"
             ],
             [
              0.8888888888888888,
              "#fdca26"
             ],
             [
              1,
              "#f0f921"
             ]
            ],
            "type": "surface"
           }
          ],
          "table": [
           {
            "cells": {
             "fill": {
              "color": "#EBF0F8"
             },
             "line": {
              "color": "white"
             }
            },
            "header": {
             "fill": {
              "color": "#C8D4E3"
             },
             "line": {
              "color": "white"
             }
            },
            "type": "table"
           }
          ]
         },
         "layout": {
          "annotationdefaults": {
           "arrowcolor": "#2a3f5f",
           "arrowhead": 0,
           "arrowwidth": 1
          },
          "autotypenumbers": "strict",
          "coloraxis": {
           "colorbar": {
            "outlinewidth": 0,
            "ticks": ""
           }
          },
          "colorscale": {
           "diverging": [
            [
             0,
             "#8e0152"
            ],
            [
             0.1,
             "#c51b7d"
            ],
            [
             0.2,
             "#de77ae"
            ],
            [
             0.3,
             "#f1b6da"
            ],
            [
             0.4,
             "#fde0ef"
            ],
            [
             0.5,
             "#f7f7f7"
            ],
            [
             0.6,
             "#e6f5d0"
            ],
            [
             0.7,
             "#b8e186"
            ],
            [
             0.8,
             "#7fbc41"
            ],
            [
             0.9,
             "#4d9221"
            ],
            [
             1,
             "#276419"
            ]
           ],
           "sequential": [
            [
             0,
             "#0d0887"
            ],
            [
             0.1111111111111111,
             "#46039f"
            ],
            [
             0.2222222222222222,
             "#7201a8"
            ],
            [
             0.3333333333333333,
             "#9c179e"
            ],
            [
             0.4444444444444444,
             "#bd3786"
            ],
            [
             0.5555555555555556,
             "#d8576b"
            ],
            [
             0.6666666666666666,
             "#ed7953"
            ],
            [
             0.7777777777777778,
             "#fb9f3a"
            ],
            [
             0.8888888888888888,
             "#fdca26"
            ],
            [
             1,
             "#f0f921"
            ]
           ],
           "sequentialminus": [
            [
             0,
             "#0d0887"
            ],
            [
             0.1111111111111111,
             "#46039f"
            ],
            [
             0.2222222222222222,
             "#7201a8"
            ],
            [
             0.3333333333333333,
             "#9c179e"
            ],
            [
             0.4444444444444444,
             "#bd3786"
            ],
            [
             0.5555555555555556,
             "#d8576b"
            ],
            [
             0.6666666666666666,
             "#ed7953"
            ],
            [
             0.7777777777777778,
             "#fb9f3a"
            ],
            [
             0.8888888888888888,
             "#fdca26"
            ],
            [
             1,
             "#f0f921"
            ]
           ]
          },
          "colorway": [
           "#636efa",
           "#EF553B",
           "#00cc96",
           "#ab63fa",
           "#FFA15A",
           "#19d3f3",
           "#FF6692",
           "#B6E880",
           "#FF97FF",
           "#FECB52"
          ],
          "font": {
           "color": "#2a3f5f"
          },
          "geo": {
           "bgcolor": "white",
           "lakecolor": "white",
           "landcolor": "#E5ECF6",
           "showlakes": true,
           "showland": true,
           "subunitcolor": "white"
          },
          "hoverlabel": {
           "align": "left"
          },
          "hovermode": "closest",
          "mapbox": {
           "style": "light"
          },
          "paper_bgcolor": "white",
          "plot_bgcolor": "#E5ECF6",
          "polar": {
           "angularaxis": {
            "gridcolor": "white",
            "linecolor": "white",
            "ticks": ""
           },
           "bgcolor": "#E5ECF6",
           "radialaxis": {
            "gridcolor": "white",
            "linecolor": "white",
            "ticks": ""
           }
          },
          "scene": {
           "xaxis": {
            "backgroundcolor": "#E5ECF6",
            "gridcolor": "white",
            "gridwidth": 2,
            "linecolor": "white",
            "showbackground": true,
            "ticks": "",
            "zerolinecolor": "white"
           },
           "yaxis": {
            "backgroundcolor": "#E5ECF6",
            "gridcolor": "white",
            "gridwidth": 2,
            "linecolor": "white",
            "showbackground": true,
            "ticks": "",
            "zerolinecolor": "white"
           },
           "zaxis": {
            "backgroundcolor": "#E5ECF6",
            "gridcolor": "white",
            "gridwidth": 2,
            "linecolor": "white",
            "showbackground": true,
            "ticks": "",
            "zerolinecolor": "white"
           }
          },
          "shapedefaults": {
           "line": {
            "color": "#2a3f5f"
           }
          },
          "ternary": {
           "aaxis": {
            "gridcolor": "white",
            "linecolor": "white",
            "ticks": ""
           },
           "baxis": {
            "gridcolor": "white",
            "linecolor": "white",
            "ticks": ""
           },
           "bgcolor": "#E5ECF6",
           "caxis": {
            "gridcolor": "white",
            "linecolor": "white",
            "ticks": ""
           }
          },
          "title": {
           "x": 0.05
          },
          "xaxis": {
           "automargin": true,
           "gridcolor": "white",
           "linecolor": "white",
           "ticks": "",
           "title": {
            "standoff": 15
           },
           "zerolinecolor": "white",
           "zerolinewidth": 2
          },
          "yaxis": {
           "automargin": true,
           "gridcolor": "white",
           "linecolor": "white",
           "ticks": "",
           "title": {
            "standoff": 15
           },
           "zerolinecolor": "white",
           "zerolinewidth": 2
          }
         }
        },
        "title": {
         "text": "Average Profit per Product (Jul 2014 – Oct 2014)\nDiscount Band: Low"
        },
        "xaxis": {
         "anchor": "y",
         "categoryarray": [
          " Amarilla ",
          " Carretera ",
          " Montana ",
          " Paseo ",
          " VTT ",
          " Velo "
         ],
         "categoryorder": "array",
         "domain": [
          0,
          1
         ],
         "title": {
          "text": "Product"
         }
        },
        "yaxis": {
         "anchor": "x",
         "domain": [
          0,
          1
         ],
         "title": {
          "text": "Average Profit ($)"
         }
        }
       }
      },
      "image/png": "[encoded data removed]"
     },
     "metadata": {},
     "output_type": "display_data"
    }
   ],
   "source": [
    "period1 = (df_clean['Date'] >= '2013-11-01') & (df_clean['Date'] <= '2014-02-28') & (df_clean['Discount Band'] == 'None')\n",
    "df_period1 = df_clean[period1]\n",
    "\n",
    "\n",
    "period2 = (df_clean['Date'] >= '2014-07-01') & (df_clean['Date'] <= '2014-10-31') & (df_clean['Discount Band'] == 'Low')\n",
    "df_period2 = df_clean[period2]\n",
    "\n",
    "\n",
    "df_agg1 = df_period1.groupby('Product')['Profit'].mean().reset_index()\n",
    "df_agg2 = df_period2.groupby('Product')['Profit'].mean().reset_index()\n",
    "\n",
    "\n",
    "fig1 = px.bar(\n",
    "    df_agg1,\n",
    "    x='Product',\n",
    "    y='Profit',\n",
    "    color='Product',\n",
    "    title='Average Profit per Product (Nov 2013 – Feb 2014)\\nDiscount Band: None',\n",
    "    labels={'Profit': 'Average Profit ($)', 'Product': 'Product'}\n",
    ")\n",
    "fig1.show()\n",
    "\n",
    "\n",
    "fig2 = px.bar(\n",
    "    df_agg2,\n",
    "    x='Product',\n",
    "    y='Profit',\n",
    "    color='Product',\n",
    "    title='Average Profit per Product (Jul 2014 – Oct 2014)\\nDiscount Band: Low',\n",
    "    labels={'Profit': 'Average Profit ($)', 'Product': 'Product'}\n",
    ")\n",
    "fig2.show()"
   ]
  },
  {
   "cell_type": "code",
   "execution_count": 23,
   "id": "100ac560-ae8e-4b61-adb8-0785f8a83910",
   "metadata": {
    "scrolled": true
   },
   "outputs": [
    {
     "data": {
      "application/vnd.plotly.v1+json": {
       "config": {
        "plotlyServerURL": "https://plot.ly"
       },
       "data": [
        {
         "hovertemplate": "Product=%{x}<br>Period=Jul 2014 – Oct 2014 (Low)<br>Average Profit ($)=%{y}<extra></extra>",
         "legendgroup": " Amarilla ",
         "marker": {
          "color": "#636efa",
          "pattern": {
           "shape": ""
          }
         },
         "name": " Amarilla ",
         "orientation": "v",
         "showlegend": true,
         "textposition": "auto",
         "type": "bar",
         "x": [
          " Amarilla "
         ],
         "xaxis": "x",
         "y": {
          "bdata": "AAAAACCxAUE=",
          "dtype": "f8"
         },
         "yaxis": "y"
        },
        {
         "hovertemplate": "Product=%{x}<br>Period=Nov 2013 – Feb 2014 (None)<br>Average Profit ($)=%{y}<extra></extra>",
         "legendgroup": " Amarilla ",
         "marker": {
          "color": "#636efa",
          "pattern": {
           "shape": ""
          }
         },
         "name": " Amarilla ",
         "orientation": "v",
         "showlegend": false,
         "textposition": "auto",
         "type": "bar",
         "x": [
          " Amarilla "
         ],
         "xaxis": "x2",
         "y": {
          "bdata": "AAAAAGA2DkE=",
          "dtype": "f8"
         },
         "yaxis": "y2"
        },
        {
         "hovertemplate": "Product=%{x}<br>Period=Jul 2014 – Oct 2014 (Low)<br>Average Profit ($)=%{y}<extra></extra>",
         "legendgroup": " Carretera ",
         "marker": {
          "color": "#EF553B",
          "pattern": {
           "shape": ""
          }
         },
         "name": " Carretera ",
         "orientation": "v",
         "showlegend": true,
         "textposition": "auto",
         "type": "bar",
         "x": [
          " Carretera "
         ],
         "xaxis": "x",
         "y": {
          "bdata": "trwxghGk4kA=",
          "dtype": "f8"
         },
         "yaxis": "y"
        },
        {
         "hovertemplate": "Product=%{x}<br>Period=Nov 2013 – Feb 2014 (None)<br>Average Profit ($)=%{y}<extra></extra>",
         "legendgroup": " Carretera ",
         "marker": {
          "color": "#EF553B",
          "pattern": {
           "shape": ""
          }
         },
         "name": " Carretera ",
         "orientation": "v",
         "showlegend": false,
         "textposition": "auto",
         "type": "bar",
         "x": [
          " Carretera "
         ],
         "xaxis": "x2",
         "y": {
          "bdata": "AAAAAMC0zEA=",
          "dtype": "f8"
         },
         "yaxis": "y2"
        },
        {
         "hovertemplate": "Product=%{x}<br>Period=Jul 2014 – Oct 2014 (Low)<br>Average Profit ($)=%{y}<extra></extra>",
         "legendgroup": " Montana ",
         "marker": {
          "color": "#00cc96",
          "pattern": {
           "shape": ""
          }
         },
         "name": " Montana ",
         "orientation": "v",
         "showlegend": true,
         "textposition": "auto",
         "type": "bar",
         "x": [
          " Montana "
         ],
         "xaxis": "x",
         "y": {
          "bdata": "WS1vjCBs2kA=",
          "dtype": "f8"
         },
         "yaxis": "y"
        },
        {
         "hovertemplate": "Product=%{x}<br>Period=Jul 2014 – Oct 2014 (Low)<br>Average Profit ($)=%{y}<extra></extra>",
         "legendgroup": " Paseo ",
         "marker": {
          "color": "#ab63fa",
          "pattern": {
           "shape": ""
          }
         },
         "name": " Paseo ",
         "orientation": "v",
         "showlegend": true,
         "textposition": "auto",
         "type": "bar",
         "x": [
          " Paseo "
         ],
         "xaxis": "x",
         "y": {
          "bdata": "LrKd7/t04EA=",
          "dtype": "f8"
         },
         "yaxis": "y"
        },
        {
         "hovertemplate": "Product=%{x}<br>Period=Nov 2013 – Feb 2014 (None)<br>Average Profit ($)=%{y}<extra></extra>",
         "legendgroup": " Paseo ",
         "marker": {
          "color": "#ab63fa",
          "pattern": {
           "shape": ""
          }
         },
         "name": " Paseo ",
         "orientation": "v",
         "showlegend": false,
         "textposition": "auto",
         "type": "bar",
         "x": [
          " Paseo "
         ],
         "xaxis": "x2",
         "y": {
          "bdata": "MzMzMzPG4UA=",
          "dtype": "f8"
         },
         "yaxis": "y2"
        },
        {
         "hovertemplate": "Product=%{x}<br>Period=Jul 2014 – Oct 2014 (Low)<br>Average Profit ($)=%{y}<extra></extra>",
         "legendgroup": " VTT ",
         "marker": {
          "color": "#FFA15A",
          "pattern": {
           "shape": ""
          }
         },
         "name": " VTT ",
         "orientation": "v",
         "showlegend": true,
         "textposition": "auto",
         "type": "bar",
         "x": [
          " VTT "
         ],
         "xaxis": "x",
         "y": {
          "bdata": "AAAAAHyw/0A=",
          "dtype": "f8"
         },
         "yaxis": "y"
        },
        {
         "hovertemplate": "Product=%{x}<br>Period=Nov 2013 – Feb 2014 (None)<br>Average Profit ($)=%{y}<extra></extra>",
         "legendgroup": " VTT ",
         "marker": {
          "color": "#FFA15A",
          "pattern": {
           "shape": ""
          }
         },
         "name": " VTT ",
         "orientation": "v",
         "showlegend": false,
         "textposition": "auto",
         "type": "bar",
         "x": [
          " VTT "
         ],
         "xaxis": "x2",
         "y": {
          "bdata": "AAAAACBt+EA=",
          "dtype": "f8"
         },
         "yaxis": "y2"
        },
        {
         "hovertemplate": "Product=%{x}<br>Period=Jul 2014 – Oct 2014 (Low)<br>Average Profit ($)=%{y}<extra></extra>",
         "legendgroup": " Velo ",
         "marker": {
          "color": "#19d3f3",
          "pattern": {
           "shape": ""
          }
         },
         "name": " Velo ",
         "orientation": "v",
         "showlegend": true,
         "textposition": "auto",
         "type": "bar",
         "x": [
          " Velo "
         ],
         "xaxis": "x",
         "y": {
          "bdata": "61G4Hp3D9EA=",
          "dtype": "f8"
         },
         "yaxis": "y"
        },
        {
         "hovertemplate": "Product=%{x}<br>Period=Nov 2013 – Feb 2014 (None)<br>Average Profit ($)=%{y}<extra></extra>",
         "legendgroup": " Velo ",
         "marker": {
          "color": "#19d3f3",
          "pattern": {
           "shape": ""
          }
         },
         "name": " Velo ",
         "orientation": "v",
         "showlegend": false,
         "textposition": "auto",
         "type": "bar",
         "x": [
          " Velo "
         ],
         "xaxis": "x2",
         "y": {
          "bdata": "AAAAAABzt0A=",
          "dtype": "f8"
         },
         "yaxis": "y2"
        }
       ],
       "layout": {
        "annotations": [
         {
          "font": {},
          "showarrow": false,
          "text": "Period=Jul 2014 – Oct 2014 (Low)",
          "x": 0.245,
          "xanchor": "center",
          "xref": "paper",
          "y": 1,
          "yanchor": "bottom",
          "yref": "paper"
         },
         {
          "font": {},
          "showarrow": false,
          "text": "Period=Nov 2013 – Feb 2014 (None)",
          "x": 0.755,
          "xanchor": "center",
          "xref": "paper",
          "y": 1,
          "yanchor": "bottom",
          "yref": "paper"
         }
        ],
        "barmode": "relative",
        "legend": {
         "title": {
          "text": "Product"
         },
         "tracegroupgap": 0
        },
        "template": {
         "data": {
          "bar": [
           {
            "error_x": {
             "color": "#2a3f5f"
            },
            "error_y": {
             "color": "#2a3f5f"
            },
            "marker": {
             "line": {
              "color": "#E5ECF6",
              "width": 0.5
             },
             "pattern": {
              "fillmode": "overlay",
              "size": 10,
              "solidity": 0.2
             }
            },
            "type": "bar"
           }
          ],
          "barpolar": [
           {
            "marker": {
             "line": {
              "color": "#E5ECF6",
              "width": 0.5
             },
             "pattern": {
              "fillmode": "overlay",
              "size": 10,
              "solidity": 0.2
             }
            },
            "type": "barpolar"
           }
          ],
          "carpet": [
           {
            "aaxis": {
             "endlinecolor": "#2a3f5f",
             "gridcolor": "white",
             "linecolor": "white",
             "minorgridcolor": "white",
             "startlinecolor": "#2a3f5f"
            },
            "baxis": {
             "endlinecolor": "#2a3f5f",
             "gridcolor": "white",
             "linecolor": "white",
             "minorgridcolor": "white",
             "startlinecolor": "#2a3f5f"
            },
            "type": "carpet"
           }
          ],
          "choropleth": [
           {
            "colorbar": {
             "outlinewidth": 0,
             "ticks": ""
            },
            "type": "choropleth"
           }
          ],
          "contour": [
           {
            "colorbar": {
             "outlinewidth": 0,
             "ticks": ""
            },
            "colorscale": [
             [
              0,
              "#0d0887"
             ],
             [
              0.1111111111111111,
              "#46039f"
             ],
             [
              0.2222222222222222,
              "#7201a8"
             ],
             [
              0.3333333333333333,
              "#9c179e"
             ],
             [
              0.4444444444444444,
              "#bd3786"
             ],
             [
              0.5555555555555556,
              "#d8576b"
             ],
             [
              0.6666666666666666,
              "#ed7953"
             ],
             [
              0.7777777777777778,
              "#fb9f3a"
             ],
             [
              0.8888888888888888,
              "#fdca26"
             ],
             [
              1,
              "#f0f921"
             ]
            ],
            "type": "contour"
           }
          ],
          "contourcarpet": [
           {
            "colorbar": {
             "outlinewidth": 0,
             "ticks": ""
            },
            "type": "contourcarpet"
           }
          ],
          "heatmap": [
           {
            "colorbar": {
             "outlinewidth": 0,
             "ticks": ""
            },
            "colorscale": [
             [
              0,
              "#0d0887"
             ],
             [
              0.1111111111111111,
              "#46039f"
             ],
             [
              0.2222222222222222,
              "#7201a8"
             ],
             [
              0.3333333333333333,
              "#9c179e"
             ],
             [
              0.4444444444444444,
              "#bd3786"
             ],
             [
              0.5555555555555556,
              "#d8576b"
             ],
             [
              0.6666666666666666,
              "#ed7953"
             ],
             [
              0.7777777777777778,
              "#fb9f3a"
             ],
             [
              0.8888888888888888,
              "#fdca26"
             ],
             [
              1,
              "#f0f921"
             ]
            ],
            "type": "heatmap"
           }
          ],
          "histogram": [
           {
            "marker": {
             "pattern": {
              "fillmode": "overlay",
              "size": 10,
              "solidity": 0.2
             }
            },
            "type": "histogram"
           }
          ],
          "histogram2d": [
           {
            "colorbar": {
             "outlinewidth": 0,
             "ticks": ""
            },
            "colorscale": [
             [
              0,
              "#0d0887"
             ],
             [
              0.1111111111111111,
              "#46039f"
             ],
             [
              0.2222222222222222,
              "#7201a8"
             ],
             [
              0.3333333333333333,
              "#9c179e"
             ],
             [
              0.4444444444444444,
              "#bd3786"
             ],
             [
              0.5555555555555556,
              "#d8576b"
             ],
             [
              0.6666666666666666,
              "#ed7953"
             ],
             [
              0.7777777777777778,
              "#fb9f3a"
             ],
             [
              0.8888888888888888,
              "#fdca26"
             ],
             [
              1,
              "#f0f921"
             ]
            ],
            "type": "histogram2d"
           }
          ],
          "histogram2dcontour": [
           {
            "colorbar": {
             "outlinewidth": 0,
             "ticks": ""
            },
            "colorscale": [
             [
              0,
              "#0d0887"
             ],
             [
              0.1111111111111111,
              "#46039f"
             ],
             [
              0.2222222222222222,
              "#7201a8"
             ],
             [
              0.3333333333333333,
              "#9c179e"
             ],
             [
              0.4444444444444444,
              "#bd3786"
             ],
             [
              0.5555555555555556,
              "#d8576b"
             ],
             [
              0.6666666666666666,
              "#ed7953"
             ],
             [
              0.7777777777777778,
              "#fb9f3a"
             ],
             [
              0.8888888888888888,
              "#fdca26"
             ],
             [
              1,
              "#f0f921"
             ]
            ],
            "type": "histogram2dcontour"
           }
          ],
          "mesh3d": [
           {
            "colorbar": {
             "outlinewidth": 0,
             "ticks": ""
            },
            "type": "mesh3d"
           }
          ],
          "parcoords": [
           {
            "line": {
             "colorbar": {
              "outlinewidth": 0,
              "ticks": ""
             }
            },
            "type": "parcoords"
           }
          ],
          "pie": [
           {
            "automargin": true,
            "type": "pie"
           }
          ],
          "scatter": [
           {
            "fillpattern": {
             "fillmode": "overlay",
             "size": 10,
             "solidity": 0.2
            },
            "type": "scatter"
           }
          ],
          "scatter3d": [
           {
            "line": {
             "colorbar": {
              "outlinewidth": 0,
              "ticks": ""
             }
            },
            "marker": {
             "colorbar": {
              "outlinewidth": 0,
              "ticks": ""
             }
            },
            "type": "scatter3d"
           }
          ],
          "scattercarpet": [
           {
            "marker": {
             "colorbar": {
              "outlinewidth": 0,
              "ticks": ""
             }
            },
            "type": "scattercarpet"
           }
          ],
          "scattergeo": [
           {
            "marker": {
             "colorbar": {
              "outlinewidth": 0,
              "ticks": ""
             }
            },
            "type": "scattergeo"
           }
          ],
          "scattergl": [
           {
            "marker": {
             "colorbar": {
              "outlinewidth": 0,
              "ticks": ""
             }
            },
            "type": "scattergl"
           }
          ],
          "scattermap": [
           {
            "marker": {
             "colorbar": {
              "outlinewidth": 0,
              "ticks": ""
             }
            },
            "type": "scattermap"
           }
          ],
          "scattermapbox": [
           {
            "marker": {
             "colorbar": {
              "outlinewidth": 0,
              "ticks": ""
             }
            },
            "type": "scattermapbox"
           }
          ],
          "scatterpolar": [
           {
            "marker": {
             "colorbar": {
              "outlinewidth": 0,
              "ticks": ""
             }
            },
            "type": "scatterpolar"
           }
          ],
          "scatterpolargl": [
           {
            "marker": {
             "colorbar": {
              "outlinewidth": 0,
              "ticks": ""
             }
            },
            "type": "scatterpolargl"
           }
          ],
          "scatterternary": [
           {
            "marker": {
             "colorbar": {
              "outlinewidth": 0,
              "ticks": ""
             }
            },
            "type": "scatterternary"
           }
          ],
          "surface": [
           {
            "colorbar": {
             "outlinewidth": 0,
             "ticks": ""
            },
            "colorscale": [
             [
              0,
              "#0d0887"
             ],
             [
              0.1111111111111111,
              "#46039f"
             ],
             [
              0.2222222222222222,
              "#7201a8"
             ],
             [
              0.3333333333333333,
              "#9c179e"
             ],
             [
              0.4444444444444444,
              "#bd3786"
             ],
             [
              0.5555555555555556,
              "#d8576b"
             ],
             [
              0.6666666666666666,
              "#ed7953"
             ],
             [
              0.7777777777777778,
              "#fb9f3a"
             ],
             [
              0.8888888888888888,
              "#fdca26"
             ],
             [
              1,
              "#f0f921"
             ]
            ],
            "type": "surface"
           }
          ],
          "table": [
           {
            "cells": {
             "fill": {
              "color": "#EBF0F8"
             },
             "line": {
              "color": "white"
             }
            },
            "header": {
             "fill": {
              "color": "#C8D4E3"
             },
             "line": {
              "color": "white"
             }
            },
            "type": "table"
           }
          ]
         },
         "layout": {
          "annotationdefaults": {
           "arrowcolor": "#2a3f5f",
           "arrowhead": 0,
           "arrowwidth": 1
          },
          "autotypenumbers": "strict",
          "coloraxis": {
           "colorbar": {
            "outlinewidth": 0,
            "ticks": ""
           }
          },
          "colorscale": {
           "diverging": [
            [
             0,
             "#8e0152"
            ],
            [
             0.1,
             "#c51b7d"
            ],
            [
             0.2,
             "#de77ae"
            ],
            [
             0.3,
             "#f1b6da"
            ],
            [
             0.4,
             "#fde0ef"
            ],
            [
             0.5,
             "#f7f7f7"
            ],
            [
             0.6,
             "#e6f5d0"
            ],
            [
             0.7,
             "#b8e186"
            ],
            [
             0.8,
             "#7fbc41"
            ],
            [
             0.9,
             "#4d9221"
            ],
            [
             1,
             "#276419"
            ]
           ],
           "sequential": [
            [
             0,
             "#0d0887"
            ],
            [
             0.1111111111111111,
             "#46039f"
            ],
            [
             0.2222222222222222,
             "#7201a8"
            ],
            [
             0.3333333333333333,
             "#9c179e"
            ],
            [
             0.4444444444444444,
             "#bd3786"
            ],
            [
             0.5555555555555556,
             "#d8576b"
            ],
            [
             0.6666666666666666,
             "#ed7953"
            ],
            [
             0.7777777777777778,
             "#fb9f3a"
            ],
            [
             0.8888888888888888,
             "#fdca26"
            ],
            [
             1,
             "#f0f921"
            ]
           ],
           "sequentialminus": [
            [
             0,
             "#0d0887"
            ],
            [
             0.1111111111111111,
             "#46039f"
            ],
            [
             0.2222222222222222,
             "#7201a8"
            ],
            [
             0.3333333333333333,
             "#9c179e"
            ],
            [
             0.4444444444444444,
             "#bd3786"
            ],
            [
             0.5555555555555556,
             "#d8576b"
            ],
            [
             0.6666666666666666,
             "#ed7953"
            ],
            [
             0.7777777777777778,
             "#fb9f3a"
            ],
            [
             0.8888888888888888,
             "#fdca26"
            ],
            [
             1,
             "#f0f921"
            ]
           ]
          },
          "colorway": [
           "#636efa",
           "#EF553B",
           "#00cc96",
           "#ab63fa",
           "#FFA15A",
           "#19d3f3",
           "#FF6692",
           "#B6E880",
           "#FF97FF",
           "#FECB52"
          ],
          "font": {
           "color": "#2a3f5f"
          },
          "geo": {
           "bgcolor": "white",
           "lakecolor": "white",
           "landcolor": "#E5ECF6",
           "showlakes": true,
           "showland": true,
           "subunitcolor": "white"
          },
          "hoverlabel": {
           "align": "left"
          },
          "hovermode": "closest",
          "mapbox": {
           "style": "light"
          },
          "paper_bgcolor": "white",
          "plot_bgcolor": "#E5ECF6",
          "polar": {
           "angularaxis": {
            "gridcolor": "white",
            "linecolor": "white",
            "ticks": ""
           },
           "bgcolor": "#E5ECF6",
           "radialaxis": {
            "gridcolor": "white",
            "linecolor": "white",
            "ticks": ""
           }
          },
          "scene": {
           "xaxis": {
            "backgroundcolor": "#E5ECF6",
            "gridcolor": "white",
            "gridwidth": 2,
            "linecolor": "white",
            "showbackground": true,
            "ticks": "",
            "zerolinecolor": "white"
           },
           "yaxis": {
            "backgroundcolor": "#E5ECF6",
            "gridcolor": "white",
            "gridwidth": 2,
            "linecolor": "white",
            "showbackground": true,
            "ticks": "",
            "zerolinecolor": "white"
           },
           "zaxis": {
            "backgroundcolor": "#E5ECF6",
            "gridcolor": "white",
            "gridwidth": 2,
            "linecolor": "white",
            "showbackground": true,
            "ticks": "",
            "zerolinecolor": "white"
           }
          },
          "shapedefaults": {
           "line": {
            "color": "#2a3f5f"
           }
          },
          "ternary": {
           "aaxis": {
            "gridcolor": "white",
            "linecolor": "white",
            "ticks": ""
           },
           "baxis": {
            "gridcolor": "white",
            "linecolor": "white",
            "ticks": ""
           },
           "bgcolor": "#E5ECF6",
           "caxis": {
            "gridcolor": "white",
            "linecolor": "white",
            "ticks": ""
           }
          },
          "title": {
           "x": 0.05
          },
          "xaxis": {
           "automargin": true,
           "gridcolor": "white",
           "linecolor": "white",
           "ticks": "",
           "title": {
            "standoff": 15
           },
           "zerolinecolor": "white",
           "zerolinewidth": 2
          },
          "yaxis": {
           "automargin": true,
           "gridcolor": "white",
           "linecolor": "white",
           "ticks": "",
           "title": {
            "standoff": 15
           },
           "zerolinecolor": "white",
           "zerolinewidth": 2
          }
         }
        },
        "title": {
         "text": "Average Profit for Products per Period & Discount Band"
        },
        "xaxis": {
         "anchor": "y",
         "categoryarray": [
          " Amarilla ",
          " Carretera ",
          " Montana ",
          " Paseo ",
          " VTT ",
          " Velo "
         ],
         "categoryorder": "array",
         "domain": [
          0,
          0.49
         ],
         "title": {
          "text": "Product"
         }
        },
        "xaxis2": {
         "anchor": "y2",
         "categoryarray": [
          " Amarilla ",
          " Carretera ",
          " Montana ",
          " Paseo ",
          " VTT ",
          " Velo "
         ],
         "categoryorder": "array",
         "domain": [
          0.51,
          1
         ],
         "matches": "x",
         "title": {
          "text": "Product"
         }
        },
        "yaxis": {
         "anchor": "x",
         "domain": [
          0,
          1
         ],
         "title": {
          "text": "Average Profit ($)"
         }
        },
        "yaxis2": {
         "anchor": "x2",
         "domain": [
          0,
          1
         ],
         "matches": "y",
         "showticklabels": false
        }
       }
      },
      "image/png": "[encoded data removed]"
     },
     "metadata": {},
     "output_type": "display_data"
    }
   ],
   "source": [
    "# Creezi copii sigure ale subseturilor\n",
    "df_period1_copy = df_period1.copy()\n",
    "df_period2_copy = df_period2.copy()\n",
    "\n",
    "# Adaugi coloana \"Period\" fără warning\n",
    "df_period1_copy['Period'] = 'Nov 2013 – Feb 2014 (None)'\n",
    "df_period2_copy['Period'] = 'Jul 2014 – Oct 2014 (Low)'\n",
    "\n",
    "# Concatenare\n",
    "df_concat = pd.concat([df_period1_copy, df_period2_copy], ignore_index=True)\n",
    "\n",
    "# Agregare\n",
    "df_agg = df_concat.groupby(['Period', 'Product'])['Profit'].mean().reset_index()\n",
    "\n",
    "# Vizualizare\n",
    "import plotly.express as px\n",
    "\n",
    "fig = px.bar(\n",
    "    df_agg,\n",
    "    x='Product',\n",
    "    y='Profit',\n",
    "    color='Product',\n",
    "    facet_col='Period',\n",
    "    title=\"Average Profit for Products per Period & Discount Band\",\n",
    "    labels={'Profit': 'Average Profit ($)', 'Product': 'Product'}\n",
    ")\n",
    "fig.show()\n",
    "\n"
   ]
  },
  {
   "cell_type": "code",
   "execution_count": 24,
   "id": "82f26881-0226-4925-9c0a-f4dc910a15bd",
   "metadata": {},
   "outputs": [],
   "source": [
    "df_clean.to_csv('final_sales_analysis.csv', index=False)\n"
   ]
  },
  {
   "cell_type": "code",
   "execution_count": null,
   "id": "2aaafc56-9c60-4a2b-9699-bd384c756710",
   "metadata": {},
   "outputs": [],
   "source": []
  }
 ],
 "metadata": {
  "kernelspec": {
   "display_name": "Python 3 (ipykernel)",
   "language": "python",
   "name": "python3"
  },
  "language_info": {
   "codemirror_mode": {
    "name": "ipython",
    "version": 3
   },
   "file_extension": ".py",
   "mimetype": "text/x-python",
   "name": "python",
   "nbconvert_exporter": "python",
   "pygments_lexer": "ipython3",
   "version": "3.12.1"
  }
 },
 "nbformat": 4,
 "nbformat_minor": 5
}
